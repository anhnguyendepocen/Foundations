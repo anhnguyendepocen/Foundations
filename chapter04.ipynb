{
 "cells": [
  {
   "cell_type": "markdown",
   "metadata": {},
   "source": [
    "# Pandas: Data Manipulation"
   ]
  },
  {
   "cell_type": "code",
   "execution_count": 70,
   "metadata": {},
   "outputs": [],
   "source": [
    "%matplotlib inline\n",
    "import pandas as pd\n",
    "import numpy as np\n",
    "import matplotlib.pyplot as plt"
   ]
  },
  {
   "cell_type": "markdown",
   "metadata": {},
   "source": [
    "## Create DataFrame"
   ]
  },
  {
   "cell_type": "code",
   "execution_count": 71,
   "metadata": {},
   "outputs": [
    {
     "data": {
      "text/html": [
       "<div>\n",
       "<style scoped>\n",
       "    .dataframe tbody tr th:only-of-type {\n",
       "        vertical-align: middle;\n",
       "    }\n",
       "\n",
       "    .dataframe tbody tr th {\n",
       "        vertical-align: top;\n",
       "    }\n",
       "\n",
       "    .dataframe thead th {\n",
       "        text-align: right;\n",
       "    }\n",
       "</style>\n",
       "<table border=\"1\" class=\"dataframe\">\n",
       "  <thead>\n",
       "    <tr style=\"text-align: right;\">\n",
       "      <th></th>\n",
       "      <th>Action</th>\n",
       "      <th>Amount</th>\n",
       "      <th>Date</th>\n",
       "      <th>Transaction</th>\n",
       "    </tr>\n",
       "  </thead>\n",
       "  <tbody>\n",
       "    <tr>\n",
       "      <th>0</th>\n",
       "      <td>W</td>\n",
       "      <td>100</td>\n",
       "      <td>06/09/2018</td>\n",
       "      <td>Walmart</td>\n",
       "    </tr>\n",
       "    <tr>\n",
       "      <th>1</th>\n",
       "      <td>D</td>\n",
       "      <td>4500</td>\n",
       "      <td>06/29/2018</td>\n",
       "      <td>RA funding</td>\n",
       "    </tr>\n",
       "  </tbody>\n",
       "</table>\n",
       "</div>"
      ],
      "text/plain": [
       "  Action  Amount        Date Transaction\n",
       "0      W     100  06/09/2018     Walmart\n",
       "1      D    4500  06/29/2018  RA funding"
      ]
     },
     "execution_count": 71,
     "metadata": {},
     "output_type": "execute_result"
    }
   ],
   "source": [
    "columns = ['Transaction', 'Amount', 'Action', 'Date']\n",
    "\n",
    "transact1 = pd.DataFrame([['NYCPizza', 3.45, \"W\", \"06/07/2018\"],\n",
    "                          ['Jet Airways', 345.0, \"W\", \"06/11/2018\"]],columns = columns)\n",
    "\n",
    "transact2 = pd.DataFrame([['Paycheck', 2300, \"D\", \"06/15/2018\"],\n",
    "                          ['Rent', 800, \"W\", \"06/30/2018\"]], columns = columns)\n",
    "\n",
    "transact3 = pd.DataFrame(dict(Transaction = ['Walmart', 'RA funding'],\n",
    "                             Amount = [100, 4500], Action = ['W','D'],\n",
    "                             Date = ['06/09/2018','06/29/2018']))\n",
    "\n",
    "transact3"
   ]
  },
  {
   "cell_type": "markdown",
   "metadata": {},
   "source": [
    "## Concatenate DataFrame"
   ]
  },
  {
   "cell_type": "code",
   "execution_count": 72,
   "metadata": {},
   "outputs": [
    {
     "data": {
      "text/html": [
       "<div>\n",
       "<style scoped>\n",
       "    .dataframe tbody tr th:only-of-type {\n",
       "        vertical-align: middle;\n",
       "    }\n",
       "\n",
       "    .dataframe tbody tr th {\n",
       "        vertical-align: top;\n",
       "    }\n",
       "\n",
       "    .dataframe thead th {\n",
       "        text-align: right;\n",
       "    }\n",
       "</style>\n",
       "<table border=\"1\" class=\"dataframe\">\n",
       "  <thead>\n",
       "    <tr style=\"text-align: right;\">\n",
       "      <th></th>\n",
       "      <th>Transaction</th>\n",
       "      <th>Amount</th>\n",
       "      <th>Action</th>\n",
       "      <th>Date</th>\n",
       "    </tr>\n",
       "  </thead>\n",
       "  <tbody>\n",
       "    <tr>\n",
       "      <th>0</th>\n",
       "      <td>NYCPizza</td>\n",
       "      <td>3.45</td>\n",
       "      <td>W</td>\n",
       "      <td>06/07/2018</td>\n",
       "    </tr>\n",
       "    <tr>\n",
       "      <th>1</th>\n",
       "      <td>Jet Airways</td>\n",
       "      <td>345.00</td>\n",
       "      <td>W</td>\n",
       "      <td>06/11/2018</td>\n",
       "    </tr>\n",
       "    <tr>\n",
       "      <th>0</th>\n",
       "      <td>Paycheck</td>\n",
       "      <td>2300.00</td>\n",
       "      <td>D</td>\n",
       "      <td>06/15/2018</td>\n",
       "    </tr>\n",
       "    <tr>\n",
       "      <th>1</th>\n",
       "      <td>Rent</td>\n",
       "      <td>800.00</td>\n",
       "      <td>W</td>\n",
       "      <td>06/30/2018</td>\n",
       "    </tr>\n",
       "  </tbody>\n",
       "</table>\n",
       "</div>"
      ],
      "text/plain": [
       "   Transaction   Amount Action        Date\n",
       "0     NYCPizza     3.45      W  06/07/2018\n",
       "1  Jet Airways   345.00      W  06/11/2018\n",
       "0     Paycheck  2300.00      D  06/15/2018\n",
       "1         Rent   800.00      W  06/30/2018"
      ]
     },
     "execution_count": 72,
     "metadata": {},
     "output_type": "execute_result"
    }
   ],
   "source": [
    "transact1.append(transact2)"
   ]
  },
  {
   "cell_type": "code",
   "execution_count": 73,
   "metadata": {},
   "outputs": [
    {
     "data": {
      "text/html": [
       "<div>\n",
       "<style scoped>\n",
       "    .dataframe tbody tr th:only-of-type {\n",
       "        vertical-align: middle;\n",
       "    }\n",
       "\n",
       "    .dataframe tbody tr th {\n",
       "        vertical-align: top;\n",
       "    }\n",
       "\n",
       "    .dataframe thead th {\n",
       "        text-align: right;\n",
       "    }\n",
       "</style>\n",
       "<table border=\"1\" class=\"dataframe\">\n",
       "  <thead>\n",
       "    <tr style=\"text-align: right;\">\n",
       "      <th></th>\n",
       "      <th>Action</th>\n",
       "      <th>Amount</th>\n",
       "      <th>Date</th>\n",
       "      <th>Transaction</th>\n",
       "    </tr>\n",
       "  </thead>\n",
       "  <tbody>\n",
       "    <tr>\n",
       "      <th>0</th>\n",
       "      <td>W</td>\n",
       "      <td>3.45</td>\n",
       "      <td>06/07/2018</td>\n",
       "      <td>NYCPizza</td>\n",
       "    </tr>\n",
       "    <tr>\n",
       "      <th>1</th>\n",
       "      <td>W</td>\n",
       "      <td>345.00</td>\n",
       "      <td>06/11/2018</td>\n",
       "      <td>Jet Airways</td>\n",
       "    </tr>\n",
       "    <tr>\n",
       "      <th>0</th>\n",
       "      <td>D</td>\n",
       "      <td>2300.00</td>\n",
       "      <td>06/15/2018</td>\n",
       "      <td>Paycheck</td>\n",
       "    </tr>\n",
       "    <tr>\n",
       "      <th>1</th>\n",
       "      <td>W</td>\n",
       "      <td>800.00</td>\n",
       "      <td>06/30/2018</td>\n",
       "      <td>Rent</td>\n",
       "    </tr>\n",
       "    <tr>\n",
       "      <th>0</th>\n",
       "      <td>W</td>\n",
       "      <td>100.00</td>\n",
       "      <td>06/09/2018</td>\n",
       "      <td>Walmart</td>\n",
       "    </tr>\n",
       "    <tr>\n",
       "      <th>1</th>\n",
       "      <td>D</td>\n",
       "      <td>4500.00</td>\n",
       "      <td>06/29/2018</td>\n",
       "      <td>RA funding</td>\n",
       "    </tr>\n",
       "  </tbody>\n",
       "</table>\n",
       "</div>"
      ],
      "text/plain": [
       "  Action   Amount        Date  Transaction\n",
       "0      W     3.45  06/07/2018     NYCPizza\n",
       "1      W   345.00  06/11/2018  Jet Airways\n",
       "0      D  2300.00  06/15/2018     Paycheck\n",
       "1      W   800.00  06/30/2018         Rent\n",
       "0      W   100.00  06/09/2018      Walmart\n",
       "1      D  4500.00  06/29/2018   RA funding"
      ]
     },
     "execution_count": 73,
     "metadata": {},
     "output_type": "execute_result"
    }
   ],
   "source": [
    "all_transact = pd.concat([transact1, transact2, transact3], sort=True)\n",
    "\n",
    "all_transact"
   ]
  },
  {
   "cell_type": "markdown",
   "metadata": {},
   "source": [
    "## Join DataFrame"
   ]
  },
  {
   "cell_type": "code",
   "execution_count": 74,
   "metadata": {},
   "outputs": [
    {
     "data": {
      "text/html": [
       "<div>\n",
       "<style scoped>\n",
       "    .dataframe tbody tr th:only-of-type {\n",
       "        vertical-align: middle;\n",
       "    }\n",
       "\n",
       "    .dataframe tbody tr th {\n",
       "        vertical-align: top;\n",
       "    }\n",
       "\n",
       "    .dataframe thead th {\n",
       "        text-align: right;\n",
       "    }\n",
       "</style>\n",
       "<table border=\"1\" class=\"dataframe\">\n",
       "  <thead>\n",
       "    <tr style=\"text-align: right;\">\n",
       "      <th></th>\n",
       "      <th>Activity</th>\n",
       "      <th>Transaction</th>\n",
       "    </tr>\n",
       "  </thead>\n",
       "  <tbody>\n",
       "    <tr>\n",
       "      <th>0</th>\n",
       "      <td>Debit</td>\n",
       "      <td>NYCPizza</td>\n",
       "    </tr>\n",
       "    <tr>\n",
       "      <th>1</th>\n",
       "      <td>Credit</td>\n",
       "      <td>Rent</td>\n",
       "    </tr>\n",
       "    <tr>\n",
       "      <th>2</th>\n",
       "      <td>Debit</td>\n",
       "      <td>Paycheck</td>\n",
       "    </tr>\n",
       "    <tr>\n",
       "      <th>3</th>\n",
       "      <td>Credit</td>\n",
       "      <td>Jet Airways</td>\n",
       "    </tr>\n",
       "  </tbody>\n",
       "</table>\n",
       "</div>"
      ],
      "text/plain": [
       "  Activity  Transaction\n",
       "0    Debit     NYCPizza\n",
       "1   Credit         Rent\n",
       "2    Debit     Paycheck\n",
       "3   Credit  Jet Airways"
      ]
     },
     "execution_count": 74,
     "metadata": {},
     "output_type": "execute_result"
    }
   ],
   "source": [
    "transact4 = pd.DataFrame(dict(Transaction = ['NYCPizza','Rent', 'Paycheck','Jet Airways'],\n",
    "                               Activity = ['Debit','Credit','Debit','Credit']))\n",
    "transact4"
   ]
  },
  {
   "cell_type": "code",
   "execution_count": 75,
   "metadata": {},
   "outputs": [
    {
     "data": {
      "text/html": [
       "<div>\n",
       "<style scoped>\n",
       "    .dataframe tbody tr th:only-of-type {\n",
       "        vertical-align: middle;\n",
       "    }\n",
       "\n",
       "    .dataframe tbody tr th {\n",
       "        vertical-align: top;\n",
       "    }\n",
       "\n",
       "    .dataframe thead th {\n",
       "        text-align: right;\n",
       "    }\n",
       "</style>\n",
       "<table border=\"1\" class=\"dataframe\">\n",
       "  <thead>\n",
       "    <tr style=\"text-align: right;\">\n",
       "      <th></th>\n",
       "      <th>Action</th>\n",
       "      <th>Amount</th>\n",
       "      <th>Date</th>\n",
       "      <th>Transaction</th>\n",
       "      <th>Activity</th>\n",
       "    </tr>\n",
       "  </thead>\n",
       "  <tbody>\n",
       "    <tr>\n",
       "      <th>0</th>\n",
       "      <td>W</td>\n",
       "      <td>3.45</td>\n",
       "      <td>06/07/2018</td>\n",
       "      <td>NYCPizza</td>\n",
       "      <td>Debit</td>\n",
       "    </tr>\n",
       "    <tr>\n",
       "      <th>1</th>\n",
       "      <td>W</td>\n",
       "      <td>345.00</td>\n",
       "      <td>06/11/2018</td>\n",
       "      <td>Jet Airways</td>\n",
       "      <td>Credit</td>\n",
       "    </tr>\n",
       "    <tr>\n",
       "      <th>2</th>\n",
       "      <td>D</td>\n",
       "      <td>2300.00</td>\n",
       "      <td>06/15/2018</td>\n",
       "      <td>Paycheck</td>\n",
       "      <td>Debit</td>\n",
       "    </tr>\n",
       "    <tr>\n",
       "      <th>3</th>\n",
       "      <td>W</td>\n",
       "      <td>800.00</td>\n",
       "      <td>06/30/2018</td>\n",
       "      <td>Rent</td>\n",
       "      <td>Credit</td>\n",
       "    </tr>\n",
       "  </tbody>\n",
       "</table>\n",
       "</div>"
      ],
      "text/plain": [
       "  Action   Amount        Date  Transaction Activity\n",
       "0      W     3.45  06/07/2018     NYCPizza    Debit\n",
       "1      W   345.00  06/11/2018  Jet Airways   Credit\n",
       "2      D  2300.00  06/15/2018     Paycheck    Debit\n",
       "3      W   800.00  06/30/2018         Rent   Credit"
      ]
     },
     "execution_count": 75,
     "metadata": {},
     "output_type": "execute_result"
    }
   ],
   "source": [
    "merge_inter = pd.merge(all_transact, transact4, on = 'Transaction')\n",
    "merge_inter"
   ]
  },
  {
   "cell_type": "code",
   "execution_count": 76,
   "metadata": {},
   "outputs": [
    {
     "data": {
      "text/html": [
       "<div>\n",
       "<style scoped>\n",
       "    .dataframe tbody tr th:only-of-type {\n",
       "        vertical-align: middle;\n",
       "    }\n",
       "\n",
       "    .dataframe tbody tr th {\n",
       "        vertical-align: top;\n",
       "    }\n",
       "\n",
       "    .dataframe thead th {\n",
       "        text-align: right;\n",
       "    }\n",
       "</style>\n",
       "<table border=\"1\" class=\"dataframe\">\n",
       "  <thead>\n",
       "    <tr style=\"text-align: right;\">\n",
       "      <th></th>\n",
       "      <th>Action</th>\n",
       "      <th>Amount</th>\n",
       "      <th>Date</th>\n",
       "      <th>Transaction</th>\n",
       "      <th>Activity</th>\n",
       "    </tr>\n",
       "  </thead>\n",
       "  <tbody>\n",
       "    <tr>\n",
       "      <th>0</th>\n",
       "      <td>W</td>\n",
       "      <td>3.45</td>\n",
       "      <td>06/07/2018</td>\n",
       "      <td>NYCPizza</td>\n",
       "      <td>Debit</td>\n",
       "    </tr>\n",
       "    <tr>\n",
       "      <th>1</th>\n",
       "      <td>W</td>\n",
       "      <td>345.00</td>\n",
       "      <td>06/11/2018</td>\n",
       "      <td>Jet Airways</td>\n",
       "      <td>Credit</td>\n",
       "    </tr>\n",
       "    <tr>\n",
       "      <th>2</th>\n",
       "      <td>D</td>\n",
       "      <td>2300.00</td>\n",
       "      <td>06/15/2018</td>\n",
       "      <td>Paycheck</td>\n",
       "      <td>Debit</td>\n",
       "    </tr>\n",
       "    <tr>\n",
       "      <th>3</th>\n",
       "      <td>W</td>\n",
       "      <td>800.00</td>\n",
       "      <td>06/30/2018</td>\n",
       "      <td>Rent</td>\n",
       "      <td>Credit</td>\n",
       "    </tr>\n",
       "    <tr>\n",
       "      <th>4</th>\n",
       "      <td>W</td>\n",
       "      <td>100.00</td>\n",
       "      <td>06/09/2018</td>\n",
       "      <td>Walmart</td>\n",
       "      <td>NaN</td>\n",
       "    </tr>\n",
       "    <tr>\n",
       "      <th>5</th>\n",
       "      <td>D</td>\n",
       "      <td>4500.00</td>\n",
       "      <td>06/29/2018</td>\n",
       "      <td>RA funding</td>\n",
       "      <td>NaN</td>\n",
       "    </tr>\n",
       "  </tbody>\n",
       "</table>\n",
       "</div>"
      ],
      "text/plain": [
       "  Action   Amount        Date  Transaction Activity\n",
       "0      W     3.45  06/07/2018     NYCPizza    Debit\n",
       "1      W   345.00  06/11/2018  Jet Airways   Credit\n",
       "2      D  2300.00  06/15/2018     Paycheck    Debit\n",
       "3      W   800.00  06/30/2018         Rent   Credit\n",
       "4      W   100.00  06/09/2018      Walmart      NaN\n",
       "5      D  4500.00  06/29/2018   RA funding      NaN"
      ]
     },
     "execution_count": 76,
     "metadata": {},
     "output_type": "execute_result"
    }
   ],
   "source": [
    "all_transact = pd.merge(all_transact, transact4, on = 'Transaction', how = 'outer')\n",
    "all_transact"
   ]
  },
  {
   "cell_type": "markdown",
   "metadata": {},
   "source": [
    "## Summarizing"
   ]
  },
  {
   "cell_type": "code",
   "execution_count": 77,
   "metadata": {},
   "outputs": [
    {
     "name": "stdout",
     "output_type": "stream",
     "text": [
      "            Amount\n",
      "count     6.000000\n",
      "mean   1341.408333\n",
      "std    1761.407335\n",
      "min       3.450000\n",
      "25%     161.250000\n",
      "50%     572.500000\n",
      "75%    1925.000000\n",
      "max    4500.000000\n",
      "--------------------\n",
      "<class 'pandas.core.frame.DataFrame'>\n",
      "Int64Index: 6 entries, 0 to 5\n",
      "Data columns (total 5 columns):\n",
      "Action         6 non-null object\n",
      "Amount         6 non-null float64\n",
      "Date           6 non-null object\n",
      "Transaction    6 non-null object\n",
      "Activity       4 non-null object\n",
      "dtypes: float64(1), object(4)\n",
      "memory usage: 288.0+ bytes\n"
     ]
    }
   ],
   "source": [
    "type(all_transact)             # <class 'pandas.core.frame.DataFrame'>\n",
    "all_transact.head()            # First 5 rows\n",
    "all_transact.tail()            # Last 5 rows\n",
    "print(all_transact.describe()) # Summerize all numeric columns (VERY POWERFUL!!)\n",
    "print('--------------------')\n",
    "\n",
    "all_transact.index             # Labels (0th column!)\n",
    "all_transact.columns           # All the actual labels\n",
    "all_transact.dtypes\n",
    "all_transact.shape             # (6,5) Think of the frame as a matrix\n",
    "all_transact.values            # Underlying Numpy array (Cool!)\n",
    "\n",
    "# Summary of most of the previous commands\n",
    "all_transact.info()"
   ]
  },
  {
   "cell_type": "code",
   "execution_count": 78,
   "metadata": {},
   "outputs": [
    {
     "data": {
      "text/html": [
       "<div>\n",
       "<style scoped>\n",
       "    .dataframe tbody tr th:only-of-type {\n",
       "        vertical-align: middle;\n",
       "    }\n",
       "\n",
       "    .dataframe tbody tr th {\n",
       "        vertical-align: top;\n",
       "    }\n",
       "\n",
       "    .dataframe thead th {\n",
       "        text-align: right;\n",
       "    }\n",
       "</style>\n",
       "<table border=\"1\" class=\"dataframe\">\n",
       "  <thead>\n",
       "    <tr style=\"text-align: right;\">\n",
       "      <th></th>\n",
       "      <th>Action</th>\n",
       "      <th>Date</th>\n",
       "      <th>Transaction</th>\n",
       "      <th>Activity</th>\n",
       "    </tr>\n",
       "  </thead>\n",
       "  <tbody>\n",
       "    <tr>\n",
       "      <th>count</th>\n",
       "      <td>6</td>\n",
       "      <td>6</td>\n",
       "      <td>6</td>\n",
       "      <td>4</td>\n",
       "    </tr>\n",
       "    <tr>\n",
       "      <th>unique</th>\n",
       "      <td>2</td>\n",
       "      <td>6</td>\n",
       "      <td>6</td>\n",
       "      <td>2</td>\n",
       "    </tr>\n",
       "    <tr>\n",
       "      <th>top</th>\n",
       "      <td>W</td>\n",
       "      <td>06/11/2018</td>\n",
       "      <td>Paycheck</td>\n",
       "      <td>Debit</td>\n",
       "    </tr>\n",
       "    <tr>\n",
       "      <th>freq</th>\n",
       "      <td>4</td>\n",
       "      <td>1</td>\n",
       "      <td>1</td>\n",
       "      <td>2</td>\n",
       "    </tr>\n",
       "  </tbody>\n",
       "</table>\n",
       "</div>"
      ],
      "text/plain": [
       "       Action        Date Transaction Activity\n",
       "count       6           6           6        4\n",
       "unique      2           6           6        2\n",
       "top         W  06/11/2018    Paycheck    Debit\n",
       "freq        4           1           1        2"
      ]
     },
     "execution_count": 78,
     "metadata": {},
     "output_type": "execute_result"
    }
   ],
   "source": [
    "all_transact.describe(include = 'all')       # Summerize all columns\n",
    "all_transact.describe(include = ['object'])  # limit to one type"
   ]
  },
  {
   "cell_type": "markdown",
   "metadata": {},
   "source": [
    "## Column Selection"
   ]
  },
  {
   "cell_type": "code",
   "execution_count": 79,
   "metadata": {},
   "outputs": [
    {
     "data": {
      "text/html": [
       "<div>\n",
       "<style scoped>\n",
       "    .dataframe tbody tr th:only-of-type {\n",
       "        vertical-align: middle;\n",
       "    }\n",
       "\n",
       "    .dataframe tbody tr th {\n",
       "        vertical-align: top;\n",
       "    }\n",
       "\n",
       "    .dataframe thead th {\n",
       "        text-align: right;\n",
       "    }\n",
       "</style>\n",
       "<table border=\"1\" class=\"dataframe\">\n",
       "  <thead>\n",
       "    <tr style=\"text-align: right;\">\n",
       "      <th></th>\n",
       "      <th>Amount</th>\n",
       "      <th>Activity</th>\n",
       "    </tr>\n",
       "  </thead>\n",
       "  <tbody>\n",
       "    <tr>\n",
       "      <th>0</th>\n",
       "      <td>3.45</td>\n",
       "      <td>Debit</td>\n",
       "    </tr>\n",
       "    <tr>\n",
       "      <th>1</th>\n",
       "      <td>345.00</td>\n",
       "      <td>Credit</td>\n",
       "    </tr>\n",
       "    <tr>\n",
       "      <th>2</th>\n",
       "      <td>2300.00</td>\n",
       "      <td>Debit</td>\n",
       "    </tr>\n",
       "    <tr>\n",
       "      <th>3</th>\n",
       "      <td>800.00</td>\n",
       "      <td>Credit</td>\n",
       "    </tr>\n",
       "    <tr>\n",
       "      <th>4</th>\n",
       "      <td>100.00</td>\n",
       "      <td>NaN</td>\n",
       "    </tr>\n",
       "    <tr>\n",
       "      <th>5</th>\n",
       "      <td>4500.00</td>\n",
       "      <td>NaN</td>\n",
       "    </tr>\n",
       "  </tbody>\n",
       "</table>\n",
       "</div>"
      ],
      "text/plain": [
       "    Amount Activity\n",
       "0     3.45    Debit\n",
       "1   345.00   Credit\n",
       "2  2300.00    Debit\n",
       "3   800.00   Credit\n",
       "4   100.00      NaN\n",
       "5  4500.00      NaN"
      ]
     },
     "execution_count": 79,
     "metadata": {},
     "output_type": "execute_result"
    }
   ],
   "source": [
    "all_transact['Amount']                   # Select a column\n",
    "all_transact.Amount                      # Alternative way (using the DataFrame)\n",
    "type(all_transact['Amount'])             # Series\n",
    "\n",
    "# Multiple columns\n",
    "new_cols = ['Amount','Activity']\n",
    "all_transact[new_cols]\n",
    "# or a direct way\n",
    "all_transact[['Amount','Activity']]"
   ]
  },
  {
   "cell_type": "markdown",
   "metadata": {},
   "source": [
    "## Rows Selection"
   ]
  },
  {
   "cell_type": "code",
   "execution_count": 80,
   "metadata": {},
   "outputs": [
    {
     "name": "stdout",
     "output_type": "stream",
     "text": [
      "  Action   Amount        Date  Transaction Activity\n",
      "0      W    23.45  06/07/2018     NYCPizza    Debit\n",
      "1      W   365.00  06/11/2018  Jet Airways   Credit\n",
      "2      D  2320.00  06/15/2018     Paycheck    Debit\n",
      "3      W   820.00  06/30/2018         Rent   Credit\n",
      "4      W   120.00  06/09/2018      Walmart      NaN\n",
      "5      D  4520.00  06/29/2018   RA funding      NaN\n"
     ]
    }
   ],
   "source": [
    "# iloc (strictly integer position based)\n",
    "df = all_transact.copy()\n",
    "df.iloc[0]                           # First row\n",
    "df.iloc[0,0]                         # Second item of first row\n",
    "df.iloc[0,1] = 7.45\n",
    "all_transact.shape\n",
    "\n",
    "# Gives error\n",
    "'''\n",
    "for i in range(all_transact.shape[0]):\n",
    "    row = df.iloc[i]\n",
    "    row.Amount *= 10.0\n",
    "'''\n",
    "\n",
    "# ix supports mixed integer and label calls\n",
    "df = all_transact.copy()\n",
    "df.loc[0]\n",
    "df.loc[0,'Amount']                    # or >> df.ix[0,1]\n",
    "\n",
    "for i in range(df.shape[0]):\n",
    "    df.loc[i,'Amount'] += 20.0\n",
    "print(df)"
   ]
  },
  {
   "cell_type": "markdown",
   "metadata": {},
   "source": [
    "## Rows Selection / Filtering"
   ]
  },
  {
   "cell_type": "code",
   "execution_count": 81,
   "metadata": {},
   "outputs": [
    {
     "name": "stdout",
     "output_type": "stream",
     "text": [
      "  Action  Amount        Date  Transaction Activity\n",
      "0      W     NaN  06/07/2018     NYCPizza    Debit\n",
      "1      W     NaN  06/11/2018  Jet Airways   Credit\n",
      "2      D  2300.0  06/15/2018     Paycheck    Debit\n",
      "3      W   800.0  06/30/2018         Rent   Credit\n",
      "4      W     NaN  06/09/2018      Walmart      NaN\n",
      "5      D  4500.0  06/29/2018   RA funding      NaN\n",
      "-------------------------------\n",
      "0       NYCPizza\n",
      "1    Jet Airways\n",
      "2       Paycheck\n",
      "3           Rent\n",
      "4        Walmart\n",
      "5     RA funding\n",
      "Name: Transaction, dtype: object\n"
     ]
    }
   ],
   "source": [
    "# Logical filtering\n",
    "print(all_transact[all_transact > 500])\n",
    "print('-------------------------------')\n",
    "print(all_transact[all_transact > 500].Transaction)"
   ]
  },
  {
   "cell_type": "code",
   "execution_count": 82,
   "metadata": {},
   "outputs": [
    {
     "data": {
      "text/html": [
       "<div>\n",
       "<style scoped>\n",
       "    .dataframe tbody tr th:only-of-type {\n",
       "        vertical-align: middle;\n",
       "    }\n",
       "\n",
       "    .dataframe tbody tr th {\n",
       "        vertical-align: top;\n",
       "    }\n",
       "\n",
       "    .dataframe thead th {\n",
       "        text-align: right;\n",
       "    }\n",
       "</style>\n",
       "<table border=\"1\" class=\"dataframe\">\n",
       "  <thead>\n",
       "    <tr style=\"text-align: right;\">\n",
       "      <th></th>\n",
       "      <th>Action</th>\n",
       "      <th>Amount</th>\n",
       "      <th>Date</th>\n",
       "      <th>Transaction</th>\n",
       "      <th>Activity</th>\n",
       "    </tr>\n",
       "  </thead>\n",
       "  <tbody>\n",
       "    <tr>\n",
       "      <th>2</th>\n",
       "      <td>D</td>\n",
       "      <td>2300.0</td>\n",
       "      <td>06/15/2018</td>\n",
       "      <td>Paycheck</td>\n",
       "      <td>Debit</td>\n",
       "    </tr>\n",
       "    <tr>\n",
       "      <th>3</th>\n",
       "      <td>W</td>\n",
       "      <td>800.0</td>\n",
       "      <td>06/30/2018</td>\n",
       "      <td>Rent</td>\n",
       "      <td>Credit</td>\n",
       "    </tr>\n",
       "    <tr>\n",
       "      <th>5</th>\n",
       "      <td>D</td>\n",
       "      <td>4500.0</td>\n",
       "      <td>06/29/2018</td>\n",
       "      <td>RA funding</td>\n",
       "      <td>NaN</td>\n",
       "    </tr>\n",
       "  </tbody>\n",
       "</table>\n",
       "</div>"
      ],
      "text/plain": [
       "  Action  Amount        Date Transaction Activity\n",
       "2      D  2300.0  06/15/2018    Paycheck    Debit\n",
       "3      W   800.0  06/30/2018        Rent   Credit\n",
       "5      D  4500.0  06/29/2018  RA funding      NaN"
      ]
     },
     "execution_count": 82,
     "metadata": {},
     "output_type": "execute_result"
    }
   ],
   "source": [
    "# Advanced logical filtering\n",
    "all_transact[all_transact.Amount > 500][['Transaction', 'Date']]\n",
    "all_transact[(all_transact.Amount > 500) | (all_transact.Action == 'D')]"
   ]
  },
  {
   "cell_type": "code",
   "execution_count": 83,
   "metadata": {},
   "outputs": [
    {
     "data": {
      "text/html": [
       "<div>\n",
       "<style scoped>\n",
       "    .dataframe tbody tr th:only-of-type {\n",
       "        vertical-align: middle;\n",
       "    }\n",
       "\n",
       "    .dataframe tbody tr th {\n",
       "        vertical-align: top;\n",
       "    }\n",
       "\n",
       "    .dataframe thead th {\n",
       "        text-align: right;\n",
       "    }\n",
       "</style>\n",
       "<table border=\"1\" class=\"dataframe\">\n",
       "  <thead>\n",
       "    <tr style=\"text-align: right;\">\n",
       "      <th></th>\n",
       "      <th>Action</th>\n",
       "      <th>Amount</th>\n",
       "      <th>Date</th>\n",
       "      <th>Transaction</th>\n",
       "      <th>Activity</th>\n",
       "    </tr>\n",
       "  </thead>\n",
       "  <tbody>\n",
       "    <tr>\n",
       "      <th>3</th>\n",
       "      <td>W</td>\n",
       "      <td>800.0</td>\n",
       "      <td>06/30/2018</td>\n",
       "      <td>Rent</td>\n",
       "      <td>Credit</td>\n",
       "    </tr>\n",
       "    <tr>\n",
       "      <th>4</th>\n",
       "      <td>W</td>\n",
       "      <td>100.0</td>\n",
       "      <td>06/09/2018</td>\n",
       "      <td>Walmart</td>\n",
       "      <td>NaN</td>\n",
       "    </tr>\n",
       "  </tbody>\n",
       "</table>\n",
       "</div>"
      ],
      "text/plain": [
       "  Action  Amount        Date Transaction Activity\n",
       "3      W   800.0  06/30/2018        Rent   Credit\n",
       "4      W   100.0  06/09/2018     Walmart      NaN"
      ]
     },
     "execution_count": 83,
     "metadata": {},
     "output_type": "execute_result"
    }
   ],
   "source": [
    "all_transact[all_transact.Transaction.isin(['Rent','Walmart'])]"
   ]
  },
  {
   "cell_type": "markdown",
   "metadata": {},
   "source": [
    "## Sorting"
   ]
  },
  {
   "cell_type": "code",
   "execution_count": 84,
   "metadata": {},
   "outputs": [
    {
     "data": {
      "text/html": [
       "<div>\n",
       "<style scoped>\n",
       "    .dataframe tbody tr th:only-of-type {\n",
       "        vertical-align: middle;\n",
       "    }\n",
       "\n",
       "    .dataframe tbody tr th {\n",
       "        vertical-align: top;\n",
       "    }\n",
       "\n",
       "    .dataframe thead th {\n",
       "        text-align: right;\n",
       "    }\n",
       "</style>\n",
       "<table border=\"1\" class=\"dataframe\">\n",
       "  <thead>\n",
       "    <tr style=\"text-align: right;\">\n",
       "      <th></th>\n",
       "      <th>Action</th>\n",
       "      <th>Amount</th>\n",
       "      <th>Date</th>\n",
       "      <th>Transaction</th>\n",
       "      <th>Activity</th>\n",
       "    </tr>\n",
       "  </thead>\n",
       "  <tbody>\n",
       "    <tr>\n",
       "      <th>1</th>\n",
       "      <td>W</td>\n",
       "      <td>345.00</td>\n",
       "      <td>06/11/2018</td>\n",
       "      <td>Jet Airways</td>\n",
       "      <td>Credit</td>\n",
       "    </tr>\n",
       "    <tr>\n",
       "      <th>3</th>\n",
       "      <td>W</td>\n",
       "      <td>800.00</td>\n",
       "      <td>06/30/2018</td>\n",
       "      <td>Rent</td>\n",
       "      <td>Credit</td>\n",
       "    </tr>\n",
       "    <tr>\n",
       "      <th>2</th>\n",
       "      <td>D</td>\n",
       "      <td>2300.00</td>\n",
       "      <td>06/15/2018</td>\n",
       "      <td>Paycheck</td>\n",
       "      <td>Debit</td>\n",
       "    </tr>\n",
       "    <tr>\n",
       "      <th>0</th>\n",
       "      <td>W</td>\n",
       "      <td>3.45</td>\n",
       "      <td>06/07/2018</td>\n",
       "      <td>NYCPizza</td>\n",
       "      <td>Debit</td>\n",
       "    </tr>\n",
       "    <tr>\n",
       "      <th>5</th>\n",
       "      <td>D</td>\n",
       "      <td>4500.00</td>\n",
       "      <td>06/29/2018</td>\n",
       "      <td>RA funding</td>\n",
       "      <td>NaN</td>\n",
       "    </tr>\n",
       "    <tr>\n",
       "      <th>4</th>\n",
       "      <td>W</td>\n",
       "      <td>100.00</td>\n",
       "      <td>06/09/2018</td>\n",
       "      <td>Walmart</td>\n",
       "      <td>NaN</td>\n",
       "    </tr>\n",
       "  </tbody>\n",
       "</table>\n",
       "</div>"
      ],
      "text/plain": [
       "  Action   Amount        Date  Transaction Activity\n",
       "1      W   345.00  06/11/2018  Jet Airways   Credit\n",
       "3      W   800.00  06/30/2018         Rent   Credit\n",
       "2      D  2300.00  06/15/2018     Paycheck    Debit\n",
       "0      W     3.45  06/07/2018     NYCPizza    Debit\n",
       "5      D  4500.00  06/29/2018   RA funding      NaN\n",
       "4      W   100.00  06/09/2018      Walmart      NaN"
      ]
     },
     "execution_count": 84,
     "metadata": {},
     "output_type": "execute_result"
    }
   ],
   "source": [
    "df = all_transact.copy()\n",
    "\n",
    "df.Amount.sort_values()                          # only for series\n",
    "df.sort_values(by = 'Amount')                    # by a specific column\n",
    "df.sort_values(by = 'Action', ascending = False)\n",
    "df.sort_values(by = ['Activity','Action'])\n",
    "df.sort_values(by = ['Activity','Action'], inplace = True) # Modify df\n",
    "df"
   ]
  },
  {
   "cell_type": "markdown",
   "metadata": {},
   "source": [
    "## Reshaping by Pivoting"
   ]
  },
  {
   "cell_type": "code",
   "execution_count": 85,
   "metadata": {},
   "outputs": [
    {
     "data": {
      "text/html": [
       "<div>\n",
       "<style scoped>\n",
       "    .dataframe tbody tr th:only-of-type {\n",
       "        vertical-align: middle;\n",
       "    }\n",
       "\n",
       "    .dataframe tbody tr th {\n",
       "        vertical-align: top;\n",
       "    }\n",
       "\n",
       "    .dataframe thead th {\n",
       "        text-align: right;\n",
       "    }\n",
       "</style>\n",
       "<table border=\"1\" class=\"dataframe\">\n",
       "  <thead>\n",
       "    <tr style=\"text-align: right;\">\n",
       "      <th></th>\n",
       "      <th>Transaction</th>\n",
       "      <th>variable</th>\n",
       "      <th>value</th>\n",
       "    </tr>\n",
       "  </thead>\n",
       "  <tbody>\n",
       "    <tr>\n",
       "      <th>0</th>\n",
       "      <td>NYCPizza</td>\n",
       "      <td>Action</td>\n",
       "      <td>W</td>\n",
       "    </tr>\n",
       "    <tr>\n",
       "      <th>1</th>\n",
       "      <td>Jet Airways</td>\n",
       "      <td>Action</td>\n",
       "      <td>W</td>\n",
       "    </tr>\n",
       "    <tr>\n",
       "      <th>2</th>\n",
       "      <td>Paycheck</td>\n",
       "      <td>Action</td>\n",
       "      <td>D</td>\n",
       "    </tr>\n",
       "    <tr>\n",
       "      <th>3</th>\n",
       "      <td>Rent</td>\n",
       "      <td>Action</td>\n",
       "      <td>W</td>\n",
       "    </tr>\n",
       "    <tr>\n",
       "      <th>4</th>\n",
       "      <td>Walmart</td>\n",
       "      <td>Action</td>\n",
       "      <td>W</td>\n",
       "    </tr>\n",
       "    <tr>\n",
       "      <th>5</th>\n",
       "      <td>RA funding</td>\n",
       "      <td>Action</td>\n",
       "      <td>D</td>\n",
       "    </tr>\n",
       "    <tr>\n",
       "      <th>6</th>\n",
       "      <td>NYCPizza</td>\n",
       "      <td>Amount</td>\n",
       "      <td>3.45</td>\n",
       "    </tr>\n",
       "    <tr>\n",
       "      <th>7</th>\n",
       "      <td>Jet Airways</td>\n",
       "      <td>Amount</td>\n",
       "      <td>345</td>\n",
       "    </tr>\n",
       "    <tr>\n",
       "      <th>8</th>\n",
       "      <td>Paycheck</td>\n",
       "      <td>Amount</td>\n",
       "      <td>2300</td>\n",
       "    </tr>\n",
       "    <tr>\n",
       "      <th>9</th>\n",
       "      <td>Rent</td>\n",
       "      <td>Amount</td>\n",
       "      <td>800</td>\n",
       "    </tr>\n",
       "    <tr>\n",
       "      <th>10</th>\n",
       "      <td>Walmart</td>\n",
       "      <td>Amount</td>\n",
       "      <td>100</td>\n",
       "    </tr>\n",
       "    <tr>\n",
       "      <th>11</th>\n",
       "      <td>RA funding</td>\n",
       "      <td>Amount</td>\n",
       "      <td>4500</td>\n",
       "    </tr>\n",
       "    <tr>\n",
       "      <th>12</th>\n",
       "      <td>NYCPizza</td>\n",
       "      <td>Date</td>\n",
       "      <td>06/07/2018</td>\n",
       "    </tr>\n",
       "    <tr>\n",
       "      <th>13</th>\n",
       "      <td>Jet Airways</td>\n",
       "      <td>Date</td>\n",
       "      <td>06/11/2018</td>\n",
       "    </tr>\n",
       "    <tr>\n",
       "      <th>14</th>\n",
       "      <td>Paycheck</td>\n",
       "      <td>Date</td>\n",
       "      <td>06/15/2018</td>\n",
       "    </tr>\n",
       "    <tr>\n",
       "      <th>15</th>\n",
       "      <td>Rent</td>\n",
       "      <td>Date</td>\n",
       "      <td>06/30/2018</td>\n",
       "    </tr>\n",
       "    <tr>\n",
       "      <th>16</th>\n",
       "      <td>Walmart</td>\n",
       "      <td>Date</td>\n",
       "      <td>06/09/2018</td>\n",
       "    </tr>\n",
       "    <tr>\n",
       "      <th>17</th>\n",
       "      <td>RA funding</td>\n",
       "      <td>Date</td>\n",
       "      <td>06/29/2018</td>\n",
       "    </tr>\n",
       "    <tr>\n",
       "      <th>18</th>\n",
       "      <td>NYCPizza</td>\n",
       "      <td>Activity</td>\n",
       "      <td>Debit</td>\n",
       "    </tr>\n",
       "    <tr>\n",
       "      <th>19</th>\n",
       "      <td>Jet Airways</td>\n",
       "      <td>Activity</td>\n",
       "      <td>Credit</td>\n",
       "    </tr>\n",
       "    <tr>\n",
       "      <th>20</th>\n",
       "      <td>Paycheck</td>\n",
       "      <td>Activity</td>\n",
       "      <td>Debit</td>\n",
       "    </tr>\n",
       "    <tr>\n",
       "      <th>21</th>\n",
       "      <td>Rent</td>\n",
       "      <td>Activity</td>\n",
       "      <td>Credit</td>\n",
       "    </tr>\n",
       "    <tr>\n",
       "      <th>22</th>\n",
       "      <td>Walmart</td>\n",
       "      <td>Activity</td>\n",
       "      <td>NaN</td>\n",
       "    </tr>\n",
       "    <tr>\n",
       "      <th>23</th>\n",
       "      <td>RA funding</td>\n",
       "      <td>Activity</td>\n",
       "      <td>NaN</td>\n",
       "    </tr>\n",
       "  </tbody>\n",
       "</table>\n",
       "</div>"
      ],
      "text/plain": [
       "    Transaction  variable       value\n",
       "0      NYCPizza    Action           W\n",
       "1   Jet Airways    Action           W\n",
       "2      Paycheck    Action           D\n",
       "3          Rent    Action           W\n",
       "4       Walmart    Action           W\n",
       "5    RA funding    Action           D\n",
       "6      NYCPizza    Amount        3.45\n",
       "7   Jet Airways    Amount         345\n",
       "8      Paycheck    Amount        2300\n",
       "9          Rent    Amount         800\n",
       "10      Walmart    Amount         100\n",
       "11   RA funding    Amount        4500\n",
       "12     NYCPizza      Date  06/07/2018\n",
       "13  Jet Airways      Date  06/11/2018\n",
       "14     Paycheck      Date  06/15/2018\n",
       "15         Rent      Date  06/30/2018\n",
       "16      Walmart      Date  06/09/2018\n",
       "17   RA funding      Date  06/29/2018\n",
       "18     NYCPizza  Activity       Debit\n",
       "19  Jet Airways  Activity      Credit\n",
       "20     Paycheck  Activity       Debit\n",
       "21         Rent  Activity      Credit\n",
       "22      Walmart  Activity         NaN\n",
       "23   RA funding  Activity         NaN"
      ]
     },
     "execution_count": 85,
     "metadata": {},
     "output_type": "execute_result"
    }
   ],
   "source": [
    "# Unpivot from wide to stacked format\n",
    "stacked = pd.melt(all_transact , id_vars = \"Transaction\")\n",
    "stacked"
   ]
  },
  {
   "cell_type": "code",
   "execution_count": 86,
   "metadata": {},
   "outputs": [
    {
     "data": {
      "text/html": [
       "<div>\n",
       "<style scoped>\n",
       "    .dataframe tbody tr th:only-of-type {\n",
       "        vertical-align: middle;\n",
       "    }\n",
       "\n",
       "    .dataframe tbody tr th {\n",
       "        vertical-align: top;\n",
       "    }\n",
       "\n",
       "    .dataframe thead th {\n",
       "        text-align: right;\n",
       "    }\n",
       "</style>\n",
       "<table border=\"1\" class=\"dataframe\">\n",
       "  <thead>\n",
       "    <tr style=\"text-align: right;\">\n",
       "      <th>variable</th>\n",
       "      <th>Action</th>\n",
       "      <th>Activity</th>\n",
       "      <th>Amount</th>\n",
       "      <th>Date</th>\n",
       "    </tr>\n",
       "    <tr>\n",
       "      <th>Transaction</th>\n",
       "      <th></th>\n",
       "      <th></th>\n",
       "      <th></th>\n",
       "      <th></th>\n",
       "    </tr>\n",
       "  </thead>\n",
       "  <tbody>\n",
       "    <tr>\n",
       "      <th>Jet Airways</th>\n",
       "      <td>W</td>\n",
       "      <td>Credit</td>\n",
       "      <td>345</td>\n",
       "      <td>06/11/2018</td>\n",
       "    </tr>\n",
       "    <tr>\n",
       "      <th>NYCPizza</th>\n",
       "      <td>W</td>\n",
       "      <td>Debit</td>\n",
       "      <td>3.45</td>\n",
       "      <td>06/07/2018</td>\n",
       "    </tr>\n",
       "    <tr>\n",
       "      <th>Paycheck</th>\n",
       "      <td>D</td>\n",
       "      <td>Debit</td>\n",
       "      <td>2300</td>\n",
       "      <td>06/15/2018</td>\n",
       "    </tr>\n",
       "    <tr>\n",
       "      <th>RA funding</th>\n",
       "      <td>D</td>\n",
       "      <td>NaN</td>\n",
       "      <td>4500</td>\n",
       "      <td>06/29/2018</td>\n",
       "    </tr>\n",
       "    <tr>\n",
       "      <th>Rent</th>\n",
       "      <td>W</td>\n",
       "      <td>Credit</td>\n",
       "      <td>800</td>\n",
       "      <td>06/30/2018</td>\n",
       "    </tr>\n",
       "    <tr>\n",
       "      <th>Walmart</th>\n",
       "      <td>W</td>\n",
       "      <td>NaN</td>\n",
       "      <td>100</td>\n",
       "      <td>06/09/2018</td>\n",
       "    </tr>\n",
       "  </tbody>\n",
       "</table>\n",
       "</div>"
      ],
      "text/plain": [
       "variable    Action Activity Amount        Date\n",
       "Transaction                                   \n",
       "Jet Airways      W   Credit    345  06/11/2018\n",
       "NYCPizza         W    Debit   3.45  06/07/2018\n",
       "Paycheck         D    Debit   2300  06/15/2018\n",
       "RA funding       D      NaN   4500  06/29/2018\n",
       "Rent             W   Credit    800  06/30/2018\n",
       "Walmart          W      NaN    100  06/09/2018"
      ]
     },
     "execution_count": 86,
     "metadata": {},
     "output_type": "execute_result"
    }
   ],
   "source": [
    "stacked.pivot(index = 'Transaction', columns = 'variable', values = 'value')"
   ]
  },
  {
   "cell_type": "markdown",
   "metadata": {},
   "source": [
    "## Quality Check"
   ]
  },
  {
   "cell_type": "markdown",
   "metadata": {},
   "source": [
    "### Remove Duplicate Data"
   ]
  },
  {
   "cell_type": "code",
   "execution_count": 87,
   "metadata": {},
   "outputs": [
    {
     "data": {
      "text/html": [
       "<div>\n",
       "<style scoped>\n",
       "    .dataframe tbody tr th:only-of-type {\n",
       "        vertical-align: middle;\n",
       "    }\n",
       "\n",
       "    .dataframe tbody tr th {\n",
       "        vertical-align: top;\n",
       "    }\n",
       "\n",
       "    .dataframe thead th {\n",
       "        text-align: right;\n",
       "    }\n",
       "</style>\n",
       "<table border=\"1\" class=\"dataframe\">\n",
       "  <thead>\n",
       "    <tr style=\"text-align: right;\">\n",
       "      <th></th>\n",
       "      <th>Action</th>\n",
       "      <th>Amount</th>\n",
       "      <th>Date</th>\n",
       "      <th>Transaction</th>\n",
       "      <th>Activity</th>\n",
       "    </tr>\n",
       "  </thead>\n",
       "  <tbody>\n",
       "    <tr>\n",
       "      <th>0</th>\n",
       "      <td>W</td>\n",
       "      <td>3.45</td>\n",
       "      <td>06/07/2018</td>\n",
       "      <td>NYCPizza</td>\n",
       "      <td>Debit</td>\n",
       "    </tr>\n",
       "    <tr>\n",
       "      <th>1</th>\n",
       "      <td>W</td>\n",
       "      <td>345.00</td>\n",
       "      <td>06/11/2018</td>\n",
       "      <td>Jet Airways</td>\n",
       "      <td>Credit</td>\n",
       "    </tr>\n",
       "    <tr>\n",
       "      <th>2</th>\n",
       "      <td>D</td>\n",
       "      <td>2300.00</td>\n",
       "      <td>06/15/2018</td>\n",
       "      <td>Paycheck</td>\n",
       "      <td>Debit</td>\n",
       "    </tr>\n",
       "    <tr>\n",
       "      <th>3</th>\n",
       "      <td>W</td>\n",
       "      <td>800.00</td>\n",
       "      <td>06/30/2018</td>\n",
       "      <td>Rent</td>\n",
       "      <td>Credit</td>\n",
       "    </tr>\n",
       "    <tr>\n",
       "      <th>4</th>\n",
       "      <td>W</td>\n",
       "      <td>100.00</td>\n",
       "      <td>06/09/2018</td>\n",
       "      <td>Walmart</td>\n",
       "      <td>NaN</td>\n",
       "    </tr>\n",
       "    <tr>\n",
       "      <th>5</th>\n",
       "      <td>D</td>\n",
       "      <td>4500.00</td>\n",
       "      <td>06/29/2018</td>\n",
       "      <td>RA funding</td>\n",
       "      <td>NaN</td>\n",
       "    </tr>\n",
       "  </tbody>\n",
       "</table>\n",
       "</div>"
      ],
      "text/plain": [
       "  Action   Amount        Date  Transaction Activity\n",
       "0      W     3.45  06/07/2018     NYCPizza    Debit\n",
       "1      W   345.00  06/11/2018  Jet Airways   Credit\n",
       "2      D  2300.00  06/15/2018     Paycheck    Debit\n",
       "3      W   800.00  06/30/2018         Rent   Credit\n",
       "4      W   100.00  06/09/2018      Walmart      NaN\n",
       "5      D  4500.00  06/29/2018   RA funding      NaN"
      ]
     },
     "execution_count": 87,
     "metadata": {},
     "output_type": "execute_result"
    }
   ],
   "source": [
    "df = all_transact.append(df.iloc[1], ignore_index = True) # Add another entry\n",
    "df.duplicated()                   # Trus if data is duplicate\n",
    "df[df.duplicated()]               # Duplicated data\n",
    "df.duplicated(['Amount','Action']).sum()\n",
    "df.drop_duplicates()              # Drop duplicates"
   ]
  },
  {
   "cell_type": "markdown",
   "metadata": {},
   "source": [
    "### Missing Data"
   ]
  },
  {
   "cell_type": "code",
   "execution_count": 88,
   "metadata": {},
   "outputs": [
    {
     "data": {
      "text/plain": [
       "Action         0\n",
       "Amount         0\n",
       "Date           0\n",
       "Transaction    0\n",
       "Activity       2\n",
       "dtype: int64"
      ]
     },
     "execution_count": 88,
     "metadata": {},
     "output_type": "execute_result"
    }
   ],
   "source": [
    "df = all_transact.copy()\n",
    "\n",
    "df.describe(include = 'all')   # Missing values are 'NaN'\n",
    "\n",
    "# Find missing values (series)\n",
    "df.Activity.isnull()           # True if missing\n",
    "df.Activity.notnull()          # True if not missing\n",
    "df[df.Activity.isnull()]       # Only rows with missing values\n",
    "df.Activity.isnull().sum()     # Total count\n",
    "\n",
    "# Find missing values in a DataFrame\n",
    "df.isnull()                    # Matrix of Truths\n",
    "df.isnull().sum()              # Missing values (every column)"
   ]
  },
  {
   "cell_type": "code",
   "execution_count": 89,
   "metadata": {},
   "outputs": [
    {
     "data": {
      "text/html": [
       "<div>\n",
       "<style scoped>\n",
       "    .dataframe tbody tr th:only-of-type {\n",
       "        vertical-align: middle;\n",
       "    }\n",
       "\n",
       "    .dataframe tbody tr th {\n",
       "        vertical-align: top;\n",
       "    }\n",
       "\n",
       "    .dataframe thead th {\n",
       "        text-align: right;\n",
       "    }\n",
       "</style>\n",
       "<table border=\"1\" class=\"dataframe\">\n",
       "  <thead>\n",
       "    <tr style=\"text-align: right;\">\n",
       "      <th></th>\n",
       "      <th>Action</th>\n",
       "      <th>Amount</th>\n",
       "      <th>Date</th>\n",
       "      <th>Transaction</th>\n",
       "      <th>Activity</th>\n",
       "    </tr>\n",
       "  </thead>\n",
       "  <tbody>\n",
       "    <tr>\n",
       "      <th>0</th>\n",
       "      <td>W</td>\n",
       "      <td>3.45</td>\n",
       "      <td>06/07/2018</td>\n",
       "      <td>NYCPizza</td>\n",
       "      <td>Debit</td>\n",
       "    </tr>\n",
       "    <tr>\n",
       "      <th>1</th>\n",
       "      <td>W</td>\n",
       "      <td>345.00</td>\n",
       "      <td>06/11/2018</td>\n",
       "      <td>Jet Airways</td>\n",
       "      <td>Credit</td>\n",
       "    </tr>\n",
       "    <tr>\n",
       "      <th>2</th>\n",
       "      <td>D</td>\n",
       "      <td>2300.00</td>\n",
       "      <td>06/15/2018</td>\n",
       "      <td>Paycheck</td>\n",
       "      <td>Debit</td>\n",
       "    </tr>\n",
       "    <tr>\n",
       "      <th>3</th>\n",
       "      <td>W</td>\n",
       "      <td>800.00</td>\n",
       "      <td>06/30/2018</td>\n",
       "      <td>Rent</td>\n",
       "      <td>Credit</td>\n",
       "    </tr>\n",
       "    <tr>\n",
       "      <th>4</th>\n",
       "      <td>W</td>\n",
       "      <td>100.00</td>\n",
       "      <td>06/09/2018</td>\n",
       "      <td>Walmart</td>\n",
       "      <td>NaN</td>\n",
       "    </tr>\n",
       "    <tr>\n",
       "      <th>5</th>\n",
       "      <td>D</td>\n",
       "      <td>4500.00</td>\n",
       "      <td>06/29/2018</td>\n",
       "      <td>RA funding</td>\n",
       "      <td>NaN</td>\n",
       "    </tr>\n",
       "  </tbody>\n",
       "</table>\n",
       "</div>"
      ],
      "text/plain": [
       "  Action   Amount        Date  Transaction Activity\n",
       "0      W     3.45  06/07/2018     NYCPizza    Debit\n",
       "1      W   345.00  06/11/2018  Jet Airways   Credit\n",
       "2      D  2300.00  06/15/2018     Paycheck    Debit\n",
       "3      W   800.00  06/30/2018         Rent   Credit\n",
       "4      W   100.00  06/09/2018      Walmart      NaN\n",
       "5      D  4500.00  06/29/2018   RA funding      NaN"
      ]
     },
     "execution_count": 89,
     "metadata": {},
     "output_type": "execute_result"
    }
   ],
   "source": [
    "# Drop missing values (IMPORTANT!!)\n",
    "df.dropna()                    # Drop a row if any value is missing\n",
    "df.dropna(how = 'all')         # Drop only if all values are missing"
   ]
  },
  {
   "cell_type": "code",
   "execution_count": null,
   "metadata": {},
   "outputs": [],
   "source": []
  },
  {
   "cell_type": "code",
   "execution_count": 90,
   "metadata": {},
   "outputs": [
    {
     "data": {
      "text/html": [
       "<div>\n",
       "<style scoped>\n",
       "    .dataframe tbody tr th:only-of-type {\n",
       "        vertical-align: middle;\n",
       "    }\n",
       "\n",
       "    .dataframe tbody tr th {\n",
       "        vertical-align: top;\n",
       "    }\n",
       "\n",
       "    .dataframe thead th {\n",
       "        text-align: right;\n",
       "    }\n",
       "</style>\n",
       "<table border=\"1\" class=\"dataframe\">\n",
       "  <thead>\n",
       "    <tr style=\"text-align: right;\">\n",
       "      <th></th>\n",
       "      <th>Action</th>\n",
       "      <th>Amount</th>\n",
       "      <th>Date</th>\n",
       "      <th>Transaction</th>\n",
       "      <th>Activity</th>\n",
       "    </tr>\n",
       "  </thead>\n",
       "  <tbody>\n",
       "    <tr>\n",
       "      <th>0</th>\n",
       "      <td>W</td>\n",
       "      <td>3.45</td>\n",
       "      <td>06/07/2018</td>\n",
       "      <td>NYCPizza</td>\n",
       "      <td>Debit</td>\n",
       "    </tr>\n",
       "    <tr>\n",
       "      <th>1</th>\n",
       "      <td>W</td>\n",
       "      <td>345.00</td>\n",
       "      <td>06/11/2018</td>\n",
       "      <td>Jet Airways</td>\n",
       "      <td>Credit</td>\n",
       "    </tr>\n",
       "    <tr>\n",
       "      <th>2</th>\n",
       "      <td>D</td>\n",
       "      <td>2300.00</td>\n",
       "      <td>06/15/2018</td>\n",
       "      <td>Paycheck</td>\n",
       "      <td>Debit</td>\n",
       "    </tr>\n",
       "    <tr>\n",
       "      <th>3</th>\n",
       "      <td>W</td>\n",
       "      <td>800.00</td>\n",
       "      <td>06/30/2018</td>\n",
       "      <td>Rent</td>\n",
       "      <td>Credit</td>\n",
       "    </tr>\n",
       "    <tr>\n",
       "      <th>4</th>\n",
       "      <td>W</td>\n",
       "      <td>100.00</td>\n",
       "      <td>06/09/2018</td>\n",
       "      <td>Walmart</td>\n",
       "      <td>Unknown</td>\n",
       "    </tr>\n",
       "    <tr>\n",
       "      <th>5</th>\n",
       "      <td>D</td>\n",
       "      <td>4500.00</td>\n",
       "      <td>06/29/2018</td>\n",
       "      <td>RA funding</td>\n",
       "      <td>Unknown</td>\n",
       "    </tr>\n",
       "  </tbody>\n",
       "</table>\n",
       "</div>"
      ],
      "text/plain": [
       "  Action   Amount        Date  Transaction Activity\n",
       "0      W     3.45  06/07/2018     NYCPizza    Debit\n",
       "1      W   345.00  06/11/2018  Jet Airways   Credit\n",
       "2      D  2300.00  06/15/2018     Paycheck    Debit\n",
       "3      W   800.00  06/30/2018         Rent   Credit\n",
       "4      W   100.00  06/09/2018      Walmart  Unknown\n",
       "5      D  4500.00  06/29/2018   RA funding  Unknown"
      ]
     },
     "execution_count": 90,
     "metadata": {},
     "output_type": "execute_result"
    }
   ],
   "source": [
    "# Fill in the missing values\n",
    "df.loc[df.Activity.isnull(),'Activity'] = 'Unknown'\n",
    "df"
   ]
  },
  {
   "cell_type": "markdown",
   "metadata": {},
   "source": [
    "## Rename Values"
   ]
  },
  {
   "cell_type": "code",
   "execution_count": 91,
   "metadata": {},
   "outputs": [
    {
     "name": "stdout",
     "output_type": "stream",
     "text": [
      "Index(['Action', 'Amount', 'Date', 'Transaction', 'Activity'], dtype='object')\n",
      "  Action  Any_cents        Date  Transaction     Card_type\n",
      "0      W       3.45  06/07/2018     NYCPizza      Reliable\n",
      "1      W     345.00  06/11/2018  Jet Airways    Unreliable\n",
      "2      D    2300.00  06/15/2018     Paycheck      Reliable\n",
      "3      W     800.00  06/30/2018         Rent    Unreliable\n",
      "4      W     100.00  06/09/2018      Walmart  Info_missing\n",
      "5      D    4500.00  06/29/2018   RA funding  Info_missing\n"
     ]
    }
   ],
   "source": [
    "print(df.columns)\n",
    "df.columns = ['Action', 'Any_cents', 'Date', 'Transaction', 'Card_type']\n",
    "df.Card_type = df.Card_type.map({'Debit':'Reliable', 'Credit':'Unreliable', 'Unknown':'Info_missing'})\n",
    "print(df)\n",
    "assert df.Card_type.isnull().sum() == 0       # Gives error if not True (IMPORTANT!!)"
   ]
  },
  {
   "cell_type": "markdown",
   "metadata": {},
   "source": [
    "## Outliners"
   ]
  },
  {
   "cell_type": "code",
   "execution_count": 92,
   "metadata": {},
   "outputs": [
    {
     "name": "stdout",
     "output_type": "stream",
     "text": [
      "Before outliners: 99.18555190849271\n",
      "After outliers: 199.18555190849273\n"
     ]
    },
    {
     "data": {
      "text/plain": [
       "307.76934565840116"
      ]
     },
     "execution_count": 92,
     "metadata": {},
     "output_type": "execute_result"
    }
   ],
   "source": [
    "size = pd.Series(np.random.normal(loc = 100, size = 30, scale = 10))\n",
    "print('Before outliners:', size.mean())\n",
    "size[:3] += 1000      # Make them outliners for the following examples\n",
    "print('After outliers:', size.mean())\n",
    "size.std()"
   ]
  },
  {
   "cell_type": "markdown",
   "metadata": {},
   "source": [
    "### Parametric Statistics (Mean)"
   ]
  },
  {
   "cell_type": "code",
   "execution_count": 93,
   "metadata": {},
   "outputs": [
    {
     "data": {
      "text/plain": [
       "98.34956909595982"
      ]
     },
     "execution_count": 93,
     "metadata": {},
     "output_type": "execute_result"
    }
   ],
   "source": [
    "size_outl = size.copy()\n",
    "size_outl.std()\n",
    "\n",
    "##########################################################\n",
    "# Authors Probably didn't shift the variable by mean\n",
    "# Here's my implementation\n",
    "##########################################################\n",
    "\n",
    "# Removing the outliners by removing values beyond 3 sigma\n",
    "size_outl[(size_outl.mean()+(size_outl-size_outl.mean()).abs()) < 3*size_outl.std()].mean()"
   ]
  },
  {
   "cell_type": "markdown",
   "metadata": {},
   "source": [
    "### Non-parametric Statistics (Median)"
   ]
  },
  {
   "cell_type": "code",
   "execution_count": 94,
   "metadata": {},
   "outputs": [
    {
     "data": {
      "text/plain": [
       "98.27076964443513"
      ]
     },
     "execution_count": 94,
     "metadata": {},
     "output_type": "execute_result"
    }
   ],
   "source": [
    "mad = 1.4826 * np.median(np.abs(size - size.median()))\n",
    "size_outl_mad = size.copy()\n",
    "\n",
    "# I don't understand this implementation\n",
    "size_outl_mad[(size_outl_mad-size_outl_mad.median()).abs() > 3 * mad] = size.median()\n",
    "size_outl_mad.mean()"
   ]
  },
  {
   "cell_type": "markdown",
   "metadata": {},
   "source": [
    "## Groupby"
   ]
  },
  {
   "cell_type": "code",
   "execution_count": 95,
   "metadata": {},
   "outputs": [
    {
     "name": "stdout",
     "output_type": "stream",
     "text": [
      "D   Action  Amount        Date Transaction Activity\n",
      "2      D  2300.0  06/15/2018    Paycheck    Debit\n",
      "5      D  4500.0  06/29/2018  RA funding      NaN\n",
      "W   Action  Amount        Date  Transaction Activity\n",
      "0      W    3.45  06/07/2018     NYCPizza    Debit\n",
      "1      W  345.00  06/11/2018  Jet Airways   Credit\n",
      "3      W  800.00  06/30/2018         Rent   Credit\n",
      "4      W  100.00  06/09/2018      Walmart      NaN\n"
     ]
    }
   ],
   "source": [
    "# Make two or more groups based an an attribute\n",
    "for grp, data in all_transact.groupby(\"Action\"):\n",
    "    print(grp, data)"
   ]
  },
  {
   "cell_type": "markdown",
   "metadata": {},
   "source": [
    "## File I/O"
   ]
  },
  {
   "cell_type": "markdown",
   "metadata": {},
   "source": [
    "### csv"
   ]
  },
  {
   "cell_type": "code",
   "execution_count": 96,
   "metadata": {},
   "outputs": [],
   "source": [
    "# Save a file in a temporary directory\n",
    "import tempfile, os.path\n",
    "tmpdir = tempfile.gettempdir()\n",
    "csv_file = os.path.join(tmpdir, \"all_transact.csv\")\n",
    "all_transact.to_csv(csv_file)"
   ]
  },
  {
   "cell_type": "markdown",
   "metadata": {},
   "source": [
    "### Read csv from url"
   ]
  },
  {
   "cell_type": "code",
   "execution_count": 97,
   "metadata": {},
   "outputs": [
    {
     "name": "stdout",
     "output_type": "stream",
     "text": [
      "<class 'pandas.core.frame.DataFrame'>\n",
      "RangeIndex: 46 entries, 0 to 45\n",
      "Data columns (total 4 columns):\n",
      "salary        46 non-null int64\n",
      "experience    46 non-null int64\n",
      "education     46 non-null object\n",
      "management    46 non-null object\n",
      "dtypes: int64(2), object(2)\n",
      "memory usage: 1.5+ KB\n"
     ]
    }
   ],
   "source": [
    "url = 'https://raw.githubusercontent.com/neurospin/pystatsml/master/datasets/salary_table.csv'\n",
    "salary = pd.read_csv(url)\n",
    "salary.info()"
   ]
  },
  {
   "cell_type": "markdown",
   "metadata": {},
   "source": [
    "### Excel"
   ]
  },
  {
   "cell_type": "code",
   "execution_count": 98,
   "metadata": {},
   "outputs": [
    {
     "data": {
      "text/html": [
       "<div>\n",
       "<style scoped>\n",
       "    .dataframe tbody tr th:only-of-type {\n",
       "        vertical-align: middle;\n",
       "    }\n",
       "\n",
       "    .dataframe tbody tr th {\n",
       "        vertical-align: top;\n",
       "    }\n",
       "\n",
       "    .dataframe thead th {\n",
       "        text-align: right;\n",
       "    }\n",
       "</style>\n",
       "<table border=\"1\" class=\"dataframe\">\n",
       "  <thead>\n",
       "    <tr style=\"text-align: right;\">\n",
       "      <th></th>\n",
       "      <th>Action</th>\n",
       "      <th>Amount</th>\n",
       "      <th>Date</th>\n",
       "      <th>Transaction</th>\n",
       "      <th>Activity</th>\n",
       "    </tr>\n",
       "  </thead>\n",
       "  <tbody>\n",
       "    <tr>\n",
       "      <th>0</th>\n",
       "      <td>W</td>\n",
       "      <td>3.45</td>\n",
       "      <td>06/07/2018</td>\n",
       "      <td>NYCPizza</td>\n",
       "      <td>Debit</td>\n",
       "    </tr>\n",
       "    <tr>\n",
       "      <th>1</th>\n",
       "      <td>W</td>\n",
       "      <td>345.00</td>\n",
       "      <td>06/11/2018</td>\n",
       "      <td>Jet Airways</td>\n",
       "      <td>Credit</td>\n",
       "    </tr>\n",
       "    <tr>\n",
       "      <th>2</th>\n",
       "      <td>D</td>\n",
       "      <td>2300.00</td>\n",
       "      <td>06/15/2018</td>\n",
       "      <td>Paycheck</td>\n",
       "      <td>Debit</td>\n",
       "    </tr>\n",
       "    <tr>\n",
       "      <th>3</th>\n",
       "      <td>W</td>\n",
       "      <td>800.00</td>\n",
       "      <td>06/30/2018</td>\n",
       "      <td>Rent</td>\n",
       "      <td>Credit</td>\n",
       "    </tr>\n",
       "    <tr>\n",
       "      <th>4</th>\n",
       "      <td>W</td>\n",
       "      <td>100.00</td>\n",
       "      <td>06/09/2018</td>\n",
       "      <td>Walmart</td>\n",
       "      <td>NaN</td>\n",
       "    </tr>\n",
       "    <tr>\n",
       "      <th>5</th>\n",
       "      <td>D</td>\n",
       "      <td>4500.00</td>\n",
       "      <td>06/29/2018</td>\n",
       "      <td>RA funding</td>\n",
       "      <td>NaN</td>\n",
       "    </tr>\n",
       "  </tbody>\n",
       "</table>\n",
       "</div>"
      ],
      "text/plain": [
       "  Action   Amount        Date  Transaction Activity\n",
       "0      W     3.45  06/07/2018     NYCPizza    Debit\n",
       "1      W   345.00  06/11/2018  Jet Airways   Credit\n",
       "2      D  2300.00  06/15/2018     Paycheck    Debit\n",
       "3      W   800.00  06/30/2018         Rent   Credit\n",
       "4      W   100.00  06/09/2018      Walmart      NaN\n",
       "5      D  4500.00  06/29/2018   RA funding      NaN"
      ]
     },
     "execution_count": 98,
     "metadata": {},
     "output_type": "execute_result"
    }
   ],
   "source": [
    "xls_file = os.path.join(tmpdir, \"all_transact.xlsx\")\n",
    "all_transact.to_excel(xls_file, sheet_name = 'all_transact', index = False)\n",
    "\n",
    "pd.read_excel(xls_file, sheet_name = 'all_transact')"
   ]
  },
  {
   "cell_type": "code",
   "execution_count": 99,
   "metadata": {},
   "outputs": [
    {
     "name": "stdout",
     "output_type": "stream",
     "text": [
      "  Action   Amount        Date  Transaction Activity\n",
      "0      W     3.45  06/07/2018     NYCPizza    Debit\n",
      "1      W   345.00  06/11/2018  Jet Airways   Credit\n",
      "2      D  2300.00  06/15/2018     Paycheck    Debit\n",
      "3      W   800.00  06/30/2018         Rent   Credit\n",
      "4      W   100.00  06/09/2018      Walmart      NaN\n",
      "5      D  4500.00  06/29/2018   RA funding      NaN\n",
      "----------------------------------------------------------\n",
      "  Action  Any_cents        Date  Transaction     Card_type\n",
      "0      W       3.45  06/07/2018     NYCPizza      Reliable\n",
      "1      W     345.00  06/11/2018  Jet Airways    Unreliable\n",
      "2      D    2300.00  06/15/2018     Paycheck      Reliable\n",
      "3      W     800.00  06/30/2018         Rent    Unreliable\n",
      "4      W     100.00  06/09/2018      Walmart  Info_missing\n",
      "5      D    4500.00  06/29/2018   RA funding  Info_missing\n"
     ]
    }
   ],
   "source": [
    "with pd.ExcelWriter(xls_file) as writer:\n",
    "    all_transact.to_excel(writer, sheet_name = 'all_transact', index = False)\n",
    "    df.to_excel(writer, sheet_name = 'Amount', index = False)\n",
    "    \n",
    "print(pd.read_excel(xls_file, sheet_name = 'all_transact'))    \n",
    "print('----------------------------------------------------------')\n",
    "print(pd.read_excel(xls_file, sheet_name = 'Amount'))    "
   ]
  }
 ],
 "metadata": {
  "kernelspec": {
   "display_name": "Python 3",
   "language": "python",
   "name": "python3"
  },
  "language_info": {
   "codemirror_mode": {
    "name": "ipython",
    "version": 2
   },
   "file_extension": ".py",
   "mimetype": "text/x-python",
   "name": "python",
   "nbconvert_exporter": "python",
   "pygments_lexer": "ipython2",
   "version": "2.7.12"
  }
 },
 "nbformat": 4,
 "nbformat_minor": 2
}
