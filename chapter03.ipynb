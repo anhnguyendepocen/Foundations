{
 "cells": [
  {
   "cell_type": "markdown",
   "metadata": {},
   "source": [
    "# Numpy: Arrays and Matrices"
   ]
  },
  {
   "cell_type": "code",
   "execution_count": 1,
   "metadata": {},
   "outputs": [],
   "source": [
    "import numpy as np"
   ]
  },
  {
   "cell_type": "markdown",
   "metadata": {},
   "source": [
    "## Create Arrays"
   ]
  },
  {
   "cell_type": "code",
   "execution_count": 2,
   "metadata": {},
   "outputs": [
    {
     "name": "stdout",
     "output_type": "stream",
     "text": [
      "[[ 1  2  3  4]\n",
      " [ 9 10 11 12]]\n"
     ]
    },
    {
     "data": {
      "text/plain": [
       "[5, 8, 4, 1, 6]"
      ]
     },
     "execution_count": 2,
     "metadata": {},
     "output_type": "execute_result"
    }
   ],
   "source": [
    "d1   = [5,8,4,1,6]\n",
    "arr1  = np.array(d1)                    # 1D array\n",
    "d2   = [range(1,5),range(9,13)]         \n",
    "arr2 = np.array(d2)                     # 2D array\n",
    "print(arr2)\n",
    "arr1.tolist()                           # Convert array to list"
   ]
  },
  {
   "cell_type": "code",
   "execution_count": 3,
   "metadata": {},
   "outputs": [
    {
     "data": {
      "text/plain": [
       "array([   1.,   10.,  100., 1000.])"
      ]
     },
     "execution_count": 3,
     "metadata": {},
     "output_type": "execute_result"
    }
   ],
   "source": [
    "# Special Arrays\n",
    "np.zeros(5)\n",
    "np.zeros((3,4))\n",
    "np.ones(10)\n",
    "np.linspace(0,1,5)\n",
    "np.logspace(0,3,4)                      # Powers of tens"
   ]
  },
  {
   "cell_type": "code",
   "execution_count": 4,
   "metadata": {},
   "outputs": [
    {
     "name": "stdout",
     "output_type": "stream",
     "text": [
      "[0 1 2 3 4 5 6 7 8 9]\n",
      "[0. 1. 2. 3. 4. 5. 6. 7. 8. 9.]\n"
     ]
    }
   ],
   "source": [
    "int_array = np.arange(10)               # Range based array\n",
    "float_array = int_array.astype(float)\n",
    "print(int_array)\n",
    "print(float_array)"
   ]
  },
  {
   "cell_type": "markdown",
   "metadata": {},
   "source": [
    "## Examine Arrays"
   ]
  },
  {
   "cell_type": "code",
   "execution_count": 5,
   "metadata": {},
   "outputs": [
    {
     "data": {
      "text/plain": [
       "2"
      ]
     },
     "execution_count": 5,
     "metadata": {},
     "output_type": "execute_result"
    }
   ],
   "source": [
    "arr1.dtype                              # float64\n",
    "arr2.dtype\n",
    "arr2.ndim                               # number of dimensions of an array\n",
    "arr2.shape                              # (2, 4) : (rows, columns)\n",
    "arr2.size                               # 8: Total no. of elements\n",
    "len(arr2)                               # size of first axis"
   ]
  },
  {
   "cell_type": "markdown",
   "metadata": {},
   "source": [
    "## Reshaping\n"
   ]
  },
  {
   "cell_type": "code",
   "execution_count": 6,
   "metadata": {},
   "outputs": [
    {
     "name": "stdout",
     "output_type": "stream",
     "text": [
      "[[0 1 2 3 4]\n",
      " [5 6 7 8 9]]\n"
     ]
    }
   ],
   "source": [
    "arr = np.arange(10)\n",
    "print(arr.reshape((2,5)))"
   ]
  },
  {
   "cell_type": "code",
   "execution_count": 7,
   "metadata": {},
   "outputs": [
    {
     "name": "stdout",
     "output_type": "stream",
     "text": [
      "[[0]\n",
      " [1]]\n"
     ]
    }
   ],
   "source": [
    "# Add an axis\n",
    "a = np.array([0,1])\n",
    "a_col = a[:,None]                       # Either\n",
    "a_col = a[:,np.newaxis]                 # Or\n",
    "print(a_col)"
   ]
  },
  {
   "cell_type": "code",
   "execution_count": 8,
   "metadata": {},
   "outputs": [
    {
     "name": "stdout",
     "output_type": "stream",
     "text": [
      "[[ 1  9]\n",
      " [ 2 10]\n",
      " [ 3 11]\n",
      " [ 4 12]]\n"
     ]
    }
   ],
   "source": [
    "# Transpose\n",
    "print(arr2.T)"
   ]
  },
  {
   "cell_type": "code",
   "execution_count": 9,
   "metadata": {},
   "outputs": [
    {
     "name": "stdout",
     "output_type": "stream",
     "text": [
      "[ 1  2  3  4  9 10 11 12]\n"
     ]
    },
    {
     "data": {
      "text/plain": [
       "array([ 1,  2,  3,  4,  9, 10, 11, 12])"
      ]
     },
     "execution_count": 9,
     "metadata": {},
     "output_type": "execute_result"
    }
   ],
   "source": [
    "# Flatten an array\n",
    "\n",
    "print(arr2.flatten())                         # Either\n",
    "arr2.ravel()                                  # Or (Flattens dynamically)"
   ]
  },
  {
   "cell_type": "markdown",
   "metadata": {},
   "source": [
    "## Stack Arrays\n"
   ]
  },
  {
   "cell_type": "code",
   "execution_count": 10,
   "metadata": {},
   "outputs": [
    {
     "name": "stdout",
     "output_type": "stream",
     "text": [
      "[[0 2]\n",
      " [1 3]\n",
      " [2 4]]\n"
     ]
    },
    {
     "data": {
      "text/plain": [
       "array([[0, 2],\n",
       "       [1, 3],\n",
       "       [2, 4]])"
      ]
     },
     "execution_count": 10,
     "metadata": {},
     "output_type": "execute_result"
    }
   ],
   "source": [
    "# Stacking of differenr arrays in columns\n",
    "a = np.array([0,1,2])\n",
    "b = np.array([2,3,4])\n",
    "\n",
    "print(np.stack((a,b)).T)                     # Notice the 'T' \n",
    "np.hstack((a[:,None],b[:,None]))"
   ]
  },
  {
   "cell_type": "markdown",
   "metadata": {},
   "source": [
    "## Selection\n"
   ]
  },
  {
   "cell_type": "code",
   "execution_count": 11,
   "metadata": {},
   "outputs": [
    {
     "name": "stdout",
     "output_type": "stream",
     "text": [
      "[[ 1  2  3  4]\n",
      " [ 9 10 11 12]]\n",
      "('Matrix Element (1,0) is:', 9)\n",
      "('Matrix Element (1,0) is:', 9)\n"
     ]
    }
   ],
   "source": [
    "print(arr2)\n",
    "\n",
    "#Single item\n",
    "print('Matrix Element (1,0) is:', arr2[1,0])\n",
    "print('Matrix Element (1,0) is:', arr2[1][0]) # C/C++ like selection"
   ]
  },
  {
   "cell_type": "markdown",
   "metadata": {},
   "source": [
    "### Slicing"
   ]
  },
  {
   "cell_type": "code",
   "execution_count": 12,
   "metadata": {},
   "outputs": [
    {
     "name": "stdout",
     "output_type": "stream",
     "text": [
      "[[ 1  2  3  4]\n",
      " [ 9 10 11 12]]\n",
      "('1:', array([1, 2, 3, 4]))\n",
      "('2:', array([1, 3]))\n",
      "('3:', array([1, 2, 3]))\n",
      "('4:', array([4]))\n",
      "('5:', array([1, 9]))\n",
      "[[10 11]\n",
      " [ 2  3]]\n"
     ]
    }
   ],
   "source": [
    "########### THINKING OF AN ARRAY AS A MATRIX REALLY HELPS IN FOLLOWING COMMANDS ###########\n",
    "# Start:Stop:Jump\n",
    "print(arr2)\n",
    "print('1:',arr2[0,:])\n",
    "print('2:',arr2[0,::2])      # Jump 2 steps\n",
    "print('3:',arr2[0,:3])       # Before index 3\n",
    "print('4:',arr2[0,3:])       # After indes 3 (includes 3)\n",
    "print('5:',arr2[:,0])\n",
    "print(arr2[::-1,1:3])        # Reversed and sliced rows"
   ]
  },
  {
   "cell_type": "markdown",
   "metadata": {},
   "source": [
    "### Fancy Indexing"
   ]
  },
  {
   "cell_type": "code",
   "execution_count": 13,
   "metadata": {},
   "outputs": [
    {
     "name": "stdout",
     "output_type": "stream",
     "text": [
      "[[ 1  2  3  4]\n",
      " [ 9 10 11 12]]\n",
      "('1:', array([[ 2,  3],\n",
      "       [10, 11]]))\n",
      "('2:', array([1, 2, 3, 4, 9]))\n",
      "('3:', array([[ 1,  2,  3,  4],\n",
      "       [ 9, 10,  0,  0]]))\n"
     ]
    }
   ],
   "source": [
    "print(arr2)       \n",
    "print('1:', arr2[:,[1,2]])         # Integer indexing \n",
    "print('2:', arr2[arr2 < 10])       # Boolean array indexing\n",
    "\n",
    "# Modification of an array\n",
    "arr2[arr2 > 10] = 0\n",
    "print('3:',arr2)    "
   ]
  },
  {
   "cell_type": "code",
   "execution_count": 14,
   "metadata": {},
   "outputs": [
    {
     "name": "stdout",
     "output_type": "stream",
     "text": [
      "('1:', array([ True, False, False,  True]))\n",
      "('2:', array(['b', 'c', 'd'], dtype='|S1'))\n",
      "('3:', array(['a', 'b', 'b', 'b'], dtype='|S1'))\n",
      "('4:', array(['a', 'b'], dtype='|S1'))\n"
     ]
    }
   ],
   "source": [
    "alph = np.array(['a','b','c','d'])\n",
    "print('1:',(alph=='a') | (alph=='d'))\n",
    "print('2:',alph[alph!='a'])\n",
    "\n",
    "# Modification of an array\n",
    "alph[alph!='a'] = 'b'\n",
    "print('3:', alph)\n",
    "print('4:', np.unique(alph))"
   ]
  },
  {
   "cell_type": "markdown",
   "metadata": {},
   "source": [
    "## Vectorized Opeartions"
   ]
  },
  {
   "cell_type": "code",
   "execution_count": 15,
   "metadata": {},
   "outputs": [
    {
     "name": "stdout",
     "output_type": "stream",
     "text": [
      "('0:', array([0, 1, 2, 3]))\n",
      "('1:', array([0, 1, 4, 9]))\n",
      "('2:', array([0., 1., 2., 3.]))\n",
      "('3:', array([3., 4., 5.]))\n",
      "('4:', array([2., 3., 4.]))\n",
      "('5:', array([2., 3., 5.]))\n",
      "('6:', array([False,  True, False]))\n"
     ]
    },
    {
     "name": "stderr",
     "output_type": "stream",
     "text": [
      "/home/amol/.local/lib/python2.7/site-packages/ipykernel_launcher.py:8: RuntimeWarning: invalid value encountered in divide\n",
      "  \n"
     ]
    }
   ],
   "source": [
    "n = np.arange(4)\n",
    "print('0:',n)\n",
    "print('1:',n**2)\n",
    "print('2:',np.sqrt(n**2))\n",
    "print('3:',np.ceil(np.array([2.34, 3.13, 4.89])))\n",
    "print('4:',np.floor(np.array([2.34, 3.13, 4.89])))\n",
    "print('5:',np.rint(np.array([2.34, 3.13, 4.89])))\n",
    "print('6:',np.isnan(0/np.array([2.34, 0, 4.89])))"
   ]
  },
  {
   "cell_type": "code",
   "execution_count": 16,
   "metadata": {},
   "outputs": [
    {
     "data": {
      "text/plain": [
       "5.137028081307065"
      ]
     },
     "execution_count": 16,
     "metadata": {},
     "output_type": "execute_result"
    }
   ],
   "source": [
    "#Euclidean distance between two vectors\n",
    "v1 = np.random.randn(10)\n",
    "v2 = np.random.randn(10)\n",
    "np.sqrt(np.sum((v1-v2)**2))"
   ]
  },
  {
   "cell_type": "code",
   "execution_count": 17,
   "metadata": {},
   "outputs": [
    {
     "name": "stdout",
     "output_type": "stream",
     "text": [
      "[[ 0.04172885 -1.41203518]\n",
      " [ 1.23354399  0.56124996]\n",
      " [ 0.12925685 -0.69922459]\n",
      " [-1.66754864  0.3555008 ]]\n",
      "--------------------------------------\n",
      "('1:', -0.18219099605726555)\n",
      "('2:', 0.9340362749640669)\n",
      "('3:', 6)\n",
      "('4:', array([-0.26301896, -1.19450901]))\n",
      "('5:', array([-1.37030633,  1.79479395, -0.56996774, -1.31204785]))\n"
     ]
    }
   ],
   "source": [
    "########## VERY IMPORTANT STATISTICAL OPERATIONS ##############\n",
    "\n",
    "# Maths and Stitistics\n",
    "rnd = np.random.randn(4,2)\n",
    "print(rnd)\n",
    "print('--------------------------------------')\n",
    "print('1:',rnd.mean())            # Mean\n",
    "print('2:',rnd.std())             # Standard deviation\n",
    "print('3:',rnd.argmin())          # Index of minimum value\n",
    "print('4:',rnd.sum(axis = 0))     # Sum of columns\n",
    "print('5:',rnd.sum(axis = 1))     # Sum of rows"
   ]
  },
  {
   "cell_type": "code",
   "execution_count": 18,
   "metadata": {},
   "outputs": [
    {
     "name": "stdout",
     "output_type": "stream",
     "text": [
      "('1:', 5)\n",
      "('1:', True)\n",
      "('1:', False)\n"
     ]
    }
   ],
   "source": [
    "# Boolean array mathods\n",
    "print('1:',(rnd > 0).sum())        # Number of positive values\n",
    "print('1:',(rnd > 0).any())        # If any value is true?\n",
    "print('1:',(rnd > 0).all())        # Are all values true?"
   ]
  },
  {
   "cell_type": "code",
   "execution_count": 19,
   "metadata": {},
   "outputs": [
    {
     "data": {
      "text/plain": [
       "array([1, 1, 2, 2, 2])"
      ]
     },
     "execution_count": 19,
     "metadata": {},
     "output_type": "execute_result"
    }
   ],
   "source": [
    "# Random numbers\n",
    "np.random.seed(12)                 # Set the seed\n",
    "np.random.rand(4,2)                # Random numbers between 0 and 1\n",
    "np.random.randn(4,2)               # Gaussian distributed random number N~(0,1)\n",
    "np.random.randint(1,3,5)           # Random integers (min, max+1, number of points)"
   ]
  },
  {
   "cell_type": "markdown",
   "metadata": {},
   "source": [
    "## Brodcasting\n",
    "Calculations with arrays of differenrt sizes. Implemented in C (instead of in Python). \n",
    "\n",
    "General rules:\n",
    "https://docs.scipy.org/doc/numpy-1.13.0/user/basics.broadcasting.html."
   ]
  },
  {
   "cell_type": "code",
   "execution_count": 20,
   "metadata": {},
   "outputs": [
    {
     "data": {
      "text/plain": [
       "array([[20, 20, 20],\n",
       "       [30, 30, 30]])"
      ]
     },
     "execution_count": 20,
     "metadata": {},
     "output_type": "execute_result"
    }
   ],
   "source": [
    "a = np.array([[ 0,  0,  0],\n",
    "              [10, 10, 10]])\n",
    "b = np.array([20, 20, 20])\n",
    "\n",
    "a + b"
   ]
  }
 ],
 "metadata": {
  "kernelspec": {
   "display_name": "Python 3",
   "language": "python",
   "name": "python3"
  },
  "language_info": {
   "codemirror_mode": {
    "name": "ipython",
    "version": 2
   },
   "file_extension": ".py",
   "mimetype": "text/x-python",
   "name": "python",
   "nbconvert_exporter": "python",
   "pygments_lexer": "ipython2",
   "version": "2.7.12"
  }
 },
 "nbformat": 4,
 "nbformat_minor": 2
}
