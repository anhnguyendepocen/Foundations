{
 "cells": [
  {
   "cell_type": "markdown",
   "metadata": {},
   "source": [
    "# Numpy: Arrays and Matrices"
   ]
  },
  {
   "cell_type": "code",
   "execution_count": 195,
   "metadata": {},
   "outputs": [],
   "source": [
    "import numpy as np"
   ]
  },
  {
   "cell_type": "markdown",
   "metadata": {},
   "source": [
    "## Create Arrays"
   ]
  },
  {
   "cell_type": "code",
   "execution_count": 196,
   "metadata": {},
   "outputs": [
    {
     "name": "stdout",
     "output_type": "stream",
     "text": [
      "[[ 1  2  3  4]\n",
      " [ 9 10 11 12]]\n"
     ]
    },
    {
     "data": {
      "text/plain": [
       "[5, 8, 4, 1, 6]"
      ]
     },
     "execution_count": 196,
     "metadata": {},
     "output_type": "execute_result"
    }
   ],
   "source": [
    "d1   = [5,8,4,1,6]\n",
    "arr1  = np.array(d1)                    # 1D array\n",
    "d2   = [range(1,5),range(9,13)]         \n",
    "arr2 = np.array(d2)                     # 2D array\n",
    "print(arr2)\n",
    "arr1.tolist()                           # Convert array to list"
   ]
  },
  {
   "cell_type": "code",
   "execution_count": 197,
   "metadata": {},
   "outputs": [
    {
     "data": {
      "text/plain": [
       "array([   1.,   10.,  100., 1000.])"
      ]
     },
     "execution_count": 197,
     "metadata": {},
     "output_type": "execute_result"
    }
   ],
   "source": [
    "# Special Arrays\n",
    "np.zeros(5)\n",
    "np.zeros((3,4))\n",
    "np.ones(10)\n",
    "np.linspace(0,1,5)\n",
    "np.logspace(0,3,4)                      # Powers of tens"
   ]
  },
  {
   "cell_type": "code",
   "execution_count": 198,
   "metadata": {},
   "outputs": [
    {
     "name": "stdout",
     "output_type": "stream",
     "text": [
      "[0 1 2 3 4 5 6 7 8 9]\n",
      "[0. 1. 2. 3. 4. 5. 6. 7. 8. 9.]\n"
     ]
    }
   ],
   "source": [
    "int_array = np.arange(10)               # Range based array\n",
    "float_array = int_array.astype(float)\n",
    "print(int_array)\n",
    "print(float_array)"
   ]
  },
  {
   "cell_type": "markdown",
   "metadata": {},
   "source": [
    "## Examine Arrays"
   ]
  },
  {
   "cell_type": "code",
   "execution_count": 199,
   "metadata": {},
   "outputs": [
    {
     "data": {
      "text/plain": [
       "2"
      ]
     },
     "execution_count": 199,
     "metadata": {},
     "output_type": "execute_result"
    }
   ],
   "source": [
    "arr1.dtype                              # float64\n",
    "arr2.dtype\n",
    "arr2.ndim                               # number of dimensions of an array\n",
    "arr2.shape                              # (2, 4) : (rows, columns)\n",
    "arr2.size                               # 8: Total no. of elements\n",
    "len(arr2)                               # size of first axis"
   ]
  },
  {
   "cell_type": "markdown",
   "metadata": {},
   "source": [
    "## Reshaping\n"
   ]
  },
  {
   "cell_type": "code",
   "execution_count": 200,
   "metadata": {},
   "outputs": [
    {
     "name": "stdout",
     "output_type": "stream",
     "text": [
      "[[0 1 2 3 4]\n",
      " [5 6 7 8 9]]\n"
     ]
    }
   ],
   "source": [
    "arr = np.arange(10)\n",
    "print(arr.reshape((2,5)))"
   ]
  },
  {
   "cell_type": "code",
   "execution_count": 201,
   "metadata": {},
   "outputs": [
    {
     "name": "stdout",
     "output_type": "stream",
     "text": [
      "[[0]\n",
      " [1]]\n"
     ]
    }
   ],
   "source": [
    "# Add an axis\n",
    "a = np.array([0,1])\n",
    "a_col = a[:,None]                       # Either\n",
    "a_col = a[:,np.newaxis]                 # Or\n",
    "print(a_col)"
   ]
  },
  {
   "cell_type": "code",
   "execution_count": 202,
   "metadata": {},
   "outputs": [
    {
     "name": "stdout",
     "output_type": "stream",
     "text": [
      "[[ 1  9]\n",
      " [ 2 10]\n",
      " [ 3 11]\n",
      " [ 4 12]]\n"
     ]
    }
   ],
   "source": [
    "# Transpose\n",
    "print(arr2.T)"
   ]
  },
  {
   "cell_type": "code",
   "execution_count": 203,
   "metadata": {},
   "outputs": [
    {
     "name": "stdout",
     "output_type": "stream",
     "text": [
      "[ 1  2  3  4  9 10 11 12]\n"
     ]
    },
    {
     "data": {
      "text/plain": [
       "array([ 1,  2,  3,  4,  9, 10, 11, 12])"
      ]
     },
     "execution_count": 203,
     "metadata": {},
     "output_type": "execute_result"
    }
   ],
   "source": [
    "# Flatten an array\n",
    "\n",
    "print(arr2.flatten())                         # Either\n",
    "arr2.ravel()                                  # Or (Flattens dynamically)"
   ]
  },
  {
   "cell_type": "markdown",
   "metadata": {},
   "source": [
    "## Stack Arrays\n"
   ]
  },
  {
   "cell_type": "code",
   "execution_count": 204,
   "metadata": {},
   "outputs": [
    {
     "name": "stdout",
     "output_type": "stream",
     "text": [
      "[[0 2]\n",
      " [1 3]\n",
      " [2 4]]\n"
     ]
    },
    {
     "data": {
      "text/plain": [
       "array([[0, 2],\n",
       "       [1, 3],\n",
       "       [2, 4]])"
      ]
     },
     "execution_count": 204,
     "metadata": {},
     "output_type": "execute_result"
    }
   ],
   "source": [
    "# Stacking of differenr arrays in columns\n",
    "a = np.array([0,1,2])\n",
    "b = np.array([2,3,4])\n",
    "\n",
    "print(np.stack((a,b)).T)                     # Notice the 'T' \n",
    "np.hstack((a[:,None],b[:,None]))"
   ]
  },
  {
   "cell_type": "markdown",
   "metadata": {},
   "source": [
    "## Selection\n"
   ]
  },
  {
   "cell_type": "code",
   "execution_count": 205,
   "metadata": {},
   "outputs": [
    {
     "name": "stdout",
     "output_type": "stream",
     "text": [
      "[[ 1  2  3  4]\n",
      " [ 9 10 11 12]]\n",
      "Matrix Element (1,0) is: 9\n",
      "Matrix Element (1,0) is: 9\n"
     ]
    }
   ],
   "source": [
    "print(arr2)\n",
    "\n",
    "#Single item\n",
    "print('Matrix Element (1,0) is:', arr2[1,0])\n",
    "print('Matrix Element (1,0) is:', arr2[1][0]) # C/C++ like selection"
   ]
  },
  {
   "cell_type": "markdown",
   "metadata": {},
   "source": [
    "### Slicing"
   ]
  },
  {
   "cell_type": "code",
   "execution_count": 206,
   "metadata": {},
   "outputs": [
    {
     "name": "stdout",
     "output_type": "stream",
     "text": [
      "[[ 1  2  3  4]\n",
      " [ 9 10 11 12]]\n",
      "1: [1 2 3 4]\n",
      "2: [1 3]\n",
      "3: [1 2 3]\n",
      "4: [4]\n",
      "5: [1 9]\n",
      "[[10 11]\n",
      " [ 2  3]]\n"
     ]
    }
   ],
   "source": [
    "########### THINKING OF AN ARRAY AS A MATRIX REALLY HELPS IN FOLLOWING COMMANDS ###########\n",
    "# Start:Stop:Jump\n",
    "print(arr2)\n",
    "print('1:',arr2[0,:])\n",
    "print('2:',arr2[0,::2])      # Jump 2 steps\n",
    "print('3:',arr2[0,:3])       # Before index 3\n",
    "print('4:',arr2[0,3:])       # After indes 3 (includes 3)\n",
    "print('5:',arr2[:,0])\n",
    "print(arr2[::-1,1:3])        # Reversed and sliced rows"
   ]
  },
  {
   "cell_type": "markdown",
   "metadata": {},
   "source": [
    "### Fancy Indexing"
   ]
  },
  {
   "cell_type": "code",
   "execution_count": 207,
   "metadata": {},
   "outputs": [
    {
     "name": "stdout",
     "output_type": "stream",
     "text": [
      "[[ 1  2  3  4]\n",
      " [ 9 10 11 12]]\n",
      "1: [[ 2  3]\n",
      " [10 11]]\n",
      "2: [1 2 3 4 9]\n",
      "3: [[ 1  2  3  4]\n",
      " [ 9 10  0  0]]\n"
     ]
    }
   ],
   "source": [
    "print(arr2)       \n",
    "print('1:', arr2[:,[1,2]])         # Integer indexing \n",
    "print('2:', arr2[arr2 < 10])       # Boolean array indexing\n",
    "\n",
    "# Modification of an array\n",
    "arr2[arr2 > 10] = 0\n",
    "print('3:',arr2)    "
   ]
  },
  {
   "cell_type": "code",
   "execution_count": 208,
   "metadata": {},
   "outputs": [
    {
     "name": "stdout",
     "output_type": "stream",
     "text": [
      "1: [ True False False  True]\n",
      "2: ['b' 'c' 'd']\n",
      "3: ['a' 'b' 'b' 'b']\n",
      "4: ['a' 'b']\n"
     ]
    }
   ],
   "source": [
    "alph = np.array(['a','b','c','d'])\n",
    "print('1:',(alph=='a') | (alph=='d'))\n",
    "print('2:',alph[alph!='a'])\n",
    "\n",
    "# Modification of an array\n",
    "alph[alph!='a'] = 'b'\n",
    "print('3:', alph)\n",
    "print('4:', np.unique(alph))"
   ]
  },
  {
   "cell_type": "markdown",
   "metadata": {},
   "source": [
    "## Vectorized Opeartions"
   ]
  },
  {
   "cell_type": "code",
   "execution_count": 209,
   "metadata": {},
   "outputs": [
    {
     "name": "stdout",
     "output_type": "stream",
     "text": [
      "0: [0 1 2 3]\n",
      "1: [0 1 4 9]\n",
      "2: [0. 1. 2. 3.]\n",
      "3: [3. 4. 5.]\n",
      "4: [2. 3. 4.]\n",
      "5: [2. 3. 5.]\n",
      "6: [False  True False]\n"
     ]
    },
    {
     "name": "stderr",
     "output_type": "stream",
     "text": [
      "/home/amol/.local/lib/python3.5/site-packages/ipykernel_launcher.py:8: RuntimeWarning: invalid value encountered in true_divide\n",
      "  \n"
     ]
    }
   ],
   "source": [
    "n = np.arange(4)\n",
    "print('0:',n)\n",
    "print('1:',n**2)\n",
    "print('2:',np.sqrt(n**2))\n",
    "print('3:',np.ceil(np.array([2.34, 3.13, 4.89])))\n",
    "print('4:',np.floor(np.array([2.34, 3.13, 4.89])))\n",
    "print('5:',np.rint(np.array([2.34, 3.13, 4.89])))\n",
    "print('6:',np.isnan(0/np.array([2.34, 0, 4.89])))"
   ]
  },
  {
   "cell_type": "code",
   "execution_count": 210,
   "metadata": {},
   "outputs": [
    {
     "data": {
      "text/plain": [
       "3.752469664897313"
      ]
     },
     "execution_count": 210,
     "metadata": {},
     "output_type": "execute_result"
    }
   ],
   "source": [
    "#Euclidean distance between two vectors\n",
    "v1 = np.random.randn(10)\n",
    "v2 = np.random.randn(10)\n",
    "np.sqrt(np.sum((v1-v2)**2))"
   ]
  },
  {
   "cell_type": "code",
   "execution_count": 211,
   "metadata": {},
   "outputs": [
    {
     "name": "stdout",
     "output_type": "stream",
     "text": [
      "[[ 1.40709829  0.00321688]\n",
      " [-0.56455474 -0.11228122]\n",
      " [-1.61017387  0.48681308]\n",
      " [ 0.56673247  0.26761333]]\n",
      "--------------------------------------\n",
      "1: 0.05555802723013889\n",
      "2: 0.829835899103386\n",
      "3: 4\n",
      "4: [-0.20089785  0.64536207]\n",
      "5: [ 1.41031517 -0.67683596 -1.12336079  0.8343458 ]\n"
     ]
    }
   ],
   "source": [
    "########## VERY IMPORTANT STATISTICAL OPERATIONS ##############\n",
    "\n",
    "# Maths and Stitistics\n",
    "rnd = np.random.randn(4,2)\n",
    "print(rnd)\n",
    "print('--------------------------------------')\n",
    "print('1:',rnd.mean())            # Mean\n",
    "print('2:',rnd.std())             # Standard deviation\n",
    "print('3:',rnd.argmin())          # Index of minimum value\n",
    "print('4:',rnd.sum(axis = 0))     # Sum of columns\n",
    "print('5:',rnd.sum(axis = 1))     # Sum of rows"
   ]
  },
  {
   "cell_type": "code",
   "execution_count": 212,
   "metadata": {},
   "outputs": [
    {
     "name": "stdout",
     "output_type": "stream",
     "text": [
      "1: 5\n",
      "1: True\n",
      "1: False\n"
     ]
    }
   ],
   "source": [
    "# Boolean array mathods\n",
    "print('1:',(rnd > 0).sum())        # Number of positive values\n",
    "print('1:',(rnd > 0).any())        # If any value is true?\n",
    "print('1:',(rnd > 0).all())        # Are all values true?"
   ]
  },
  {
   "cell_type": "code",
   "execution_count": 213,
   "metadata": {},
   "outputs": [
    {
     "data": {
      "text/plain": [
       "array([1, 1, 2, 2, 2])"
      ]
     },
     "execution_count": 213,
     "metadata": {},
     "output_type": "execute_result"
    }
   ],
   "source": [
    "# Random numbers\n",
    "np.random.seed(12)                 # Set the seed\n",
    "np.random.rand(4,2)                # Random numbers between 0 and 1\n",
    "np.random.randn(4,2)               # Gaussian distributed random number N~(0,1)\n",
    "np.random.randint(1,3,5)           # Random integers (min, max+1, number of points)"
   ]
  },
  {
   "cell_type": "markdown",
   "metadata": {},
   "source": [
    "## Brodcasting\n",
    "Calculations with arrays of differenrt sizes. Implemented in C (instead of in Python). \n",
    "\n",
    "General rules:\n",
    "https://docs.scipy.org/doc/numpy-1.13.0/user/basics.broadcasting.html."
   ]
  },
  {
   "cell_type": "code",
   "execution_count": 214,
   "metadata": {},
   "outputs": [
    {
     "data": {
      "text/plain": [
       "array([[20, 20, 20],\n",
       "       [30, 30, 30]])"
      ]
     },
     "execution_count": 214,
     "metadata": {},
     "output_type": "execute_result"
    }
   ],
   "source": [
    "a = np.array([[ 0,  0,  0],\n",
    "              [10, 10, 10]])\n",
    "b = np.array([20, 20, 20])\n",
    "\n",
    "a + b"
   ]
  },
  {
   "cell_type": "markdown",
   "metadata": {},
   "source": [
    "## Excercises"
   ]
  }
 ],
 "metadata": {
  "kernelspec": {
   "display_name": "Python 3",
   "language": "python",
   "name": "python3"
  },
  "language_info": {
   "codemirror_mode": {
    "name": "ipython",
    "version": 3
   },
   "file_extension": ".py",
   "mimetype": "text/x-python",
   "name": "python",
   "nbconvert_exporter": "python",
   "pygments_lexer": "ipython3",
   "version": "3.5.2"
  }
 },
 "nbformat": 4,
 "nbformat_minor": 2
}
