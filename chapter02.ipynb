{
 "cells": [
  {
   "cell_type": "markdown",
   "metadata": {},
   "source": [
    "# Python Language"
   ]
  },
  {
   "cell_type": "markdown",
   "metadata": {},
   "source": [
    "## Libraries"
   ]
  },
  {
   "cell_type": "code",
   "execution_count": 1,
   "metadata": {},
   "outputs": [],
   "source": [
    "# It is advisable to import only specific functions (from the module) that one needs in an analysis \n",
    "import numpy                        # Not advisable\n",
    "from numpy import sqrt\n",
    "from numpy import sqrt, mean        # Advisable\n",
    "import matplotlib.pyplot as plt\n",
    "content = dir(numpy)                # Shows all functions in numpy module"
   ]
  },
  {
   "cell_type": "markdown",
   "metadata": {},
   "source": [
    "## Data Types"
   ]
  },
  {
   "cell_type": "code",
   "execution_count": 2,
   "metadata": {},
   "outputs": [
    {
     "data": {
      "text/plain": [
       "int"
      ]
     },
     "execution_count": 2,
     "metadata": {},
     "output_type": "execute_result"
    }
   ],
   "source": [
    "# Outputs the type\n",
    "type(10.0)  \n",
    "type('ten')\n",
    "type(False)\n",
    "type(None)\n",
    "type(10)"
   ]
  },
  {
   "cell_type": "code",
   "execution_count": 3,
   "metadata": {},
   "outputs": [
    {
     "data": {
      "text/plain": [
       "True"
      ]
     },
     "execution_count": 3,
     "metadata": {},
     "output_type": "execute_result"
    }
   ],
   "source": [
    "# Is an object of one of the specified types?\n",
    "isinstance(10.0, (int, float))"
   ]
  },
  {
   "cell_type": "code",
   "execution_count": 4,
   "metadata": {},
   "outputs": [
    {
     "data": {
      "text/plain": [
       "10.0"
      ]
     },
     "execution_count": 4,
     "metadata": {},
     "output_type": "execute_result"
    }
   ],
   "source": [
    "# Convert to different data type\n",
    "float(10)"
   ]
  },
  {
   "cell_type": "code",
   "execution_count": 5,
   "metadata": {},
   "outputs": [
    {
     "data": {
      "text/plain": [
       "True"
      ]
     },
     "execution_count": 5,
     "metadata": {},
     "output_type": "execute_result"
    }
   ],
   "source": [
    "# Empty containers return False\n",
    "bool([]) \n",
    "bool(None)\n",
    "# Non-Empty containers, return True\n",
    "bool([10]) \n",
    "bool(10)"
   ]
  },
  {
   "cell_type": "markdown",
   "metadata": {},
   "source": [
    "## Math"
   ]
  },
  {
   "cell_type": "code",
   "execution_count": 6,
   "metadata": {},
   "outputs": [
    {
     "data": {
      "text/plain": [
       "2"
      ]
     },
     "execution_count": 6,
     "metadata": {},
     "output_type": "execute_result"
    }
   ],
   "source": [
    "#(a $opearator$ b) where $operator$ = {+,-,*,**,/,//,%}\n",
    "# For example,\n",
    "8//4"
   ]
  },
  {
   "cell_type": "markdown",
   "metadata": {},
   "source": [
    "## Comparisons and boolean operations"
   ]
  },
  {
   "cell_type": "code",
   "execution_count": 7,
   "metadata": {},
   "outputs": [
    {
     "data": {
      "text/plain": [
       "True"
      ]
     },
     "execution_count": 7,
     "metadata": {},
     "output_type": "execute_result"
    }
   ],
   "source": [
    "#(a $opearator$ b) where $operator$ = {>,<,==,!=}\n",
    "# For example,\n",
    "8 > 4 "
   ]
  },
  {
   "cell_type": "code",
   "execution_count": 8,
   "metadata": {},
   "outputs": [
    {
     "data": {
      "text/plain": [
       "False"
      ]
     },
     "execution_count": 8,
     "metadata": {},
     "output_type": "execute_result"
    }
   ],
   "source": [
    "# Boolean operations\n",
    "not True\n",
    "not 8>4 and 8<10 or 7<3"
   ]
  },
  {
   "cell_type": "markdown",
   "metadata": {},
   "source": [
    "## Conditional statements"
   ]
  },
  {
   "cell_type": "code",
   "execution_count": 9,
   "metadata": {},
   "outputs": [
    {
     "ename": "SyntaxError",
     "evalue": "invalid syntax (<ipython-input-9-8e123e4e6342>, line 10)",
     "output_type": "error",
     "traceback": [
      "\u001b[0;36m  File \u001b[0;32m\"<ipython-input-9-8e123e4e6342>\"\u001b[0;36m, line \u001b[0;32m10\u001b[0m\n\u001b[0;31m    print('Even') if x%2==0 else print('odd')\u001b[0m\n\u001b[0m                                     ^\u001b[0m\n\u001b[0;31mSyntaxError\u001b[0m\u001b[0;31m:\u001b[0m invalid syntax\n"
     ]
    }
   ],
   "source": [
    "x = -2\n",
    "# If-elif-else statement\n",
    "if x > 0:\n",
    "    print(\"Positive\")\n",
    "elif x < 0:\n",
    "    print(\"Negative\")\n",
    "else:\n",
    "    print(\"Zero\")\n",
    "# ternary operator (also exists in C/C++)\n",
    "print('Even') if x%2==0 else print('odd')"
   ]
  },
  {
   "cell_type": "markdown",
   "metadata": {},
   "source": [
    "## Lists \n",
    "Sequenced, ordered, mutable, can contain different data types."
   ]
  },
  {
   "cell_type": "code",
   "execution_count": null,
   "metadata": {},
   "outputs": [],
   "source": [
    "# Two ways of creating empty list\n",
    "list_1 = []\n",
    "list_2 = list()\n",
    "\n",
    "# Non-empty list \n",
    "# NOTE: (Some of the operations, such as sorting, cannot be performed on a list that contains mixed data types)\n",
    "mixed_list = [10, 8.7, 'word', True]\n",
    "majors = ['Physics', 'Chemistry', 'Biology','2.0']\n",
    "\n",
    "# Information about a list\n",
    "majors[0]                              # Element at a specified index\n",
    "majors[-1]                             # Last element  \n",
    "len(majors)\n",
    "\n",
    "# Modifications of a list\n",
    "majors.append('Mathematics')           # Add a single element\n",
    "majors.extend(['Economics', 'Law'])    # Add multiple elements\n",
    "majors.insert(1,'Philosophy')          # Add an element at a specified index\n",
    "majors.remove('Economics')             # Remove an element as soon as it's found in the list\n",
    "majors.pop(2)                          # Remove an element and returns it\n",
    "del majors[3]                          # Remove an element but does not return it\n",
    "majors[2] = 'Zoology'                  # Replace an element at a specified index \n",
    "\n",
    "# Another (slower way of extending a list)\n",
    "majors += ['Biology','Physics'] \n",
    "\n",
    "# Information about a specific element \n",
    "majors.count('Physics')                # Count the number of appearances\n",
    "majors.index('Law')                    # Return index of first instance  \n",
    "\n",
    "# Slicing of a list [start:end:jump]\n",
    "majors[0:3]                            # Elements 0, 1, 2\n",
    "majors[:3]                             # Elements 0, 1, 2\n",
    "majors[3:]                             # Elements 3, 4, 5\n",
    "majors[::2]                            # Elements 0, 2, 4\n",
    "majors[::-1]                           # Reverse (5, 4, 3, 2, 1, 0)\n",
    "list(reversed(majors))                 # Alternative reversal\n",
    "\n",
    "# Sorting the actual list (and not it's copy)\n",
    "majors.sort()                          # Sort alphabetically by default\n",
    "majors.sort(key = len)                 # Sort using a key\n",
    "majors.sort(reverse= True)             # Reverse sort\n",
    "\n",
    "# Sorting a copy of a list\n",
    "sorted(majors)\n",
    "sorted(majors, key = len)\n",
    "sorted(majors, reverse = True)\n",
    "\n",
    "# Create a reference to a list\n",
    "subjects = majors\n",
    "subjects[0] = 'Botany'                 # Changes both the lists\n",
    "\n",
    "# Copy a list (3 ways)\n",
    "minors = majors.copy()\n",
    "minors = majors[:]\n",
    "minors = list(majors)\n",
    "\n",
    "# Check the information regarding the address of an object in a memory\n",
    "id(majors) == id(subjects)             # True\n",
    "id(majors) == id(minors)               # False\n",
    "majors is subjects                     # True\n",
    "majors is minors                       # False\n",
    "majors == subjects                     # True\n",
    "majors == minors                       # True *(Becuase, the content is same)*\n",
    "\n",
    "# Replicate a list\n",
    "['Physics'] * 1 + ['k', 'a'] * 2"
   ]
  },
  {
   "cell_type": "markdown",
   "metadata": {},
   "source": [
    "## Tuples\n",
    "Similar to lists, but can not change size."
   ]
  },
  {
   "cell_type": "code",
   "execution_count": null,
   "metadata": {},
   "outputs": [],
   "source": [
    "# Two ways of creating a tuple\n",
    "mixed_tuple = (10, 8.7, 'word', True)\n",
    "mixed_tuple = tuple([10, 8.7, 'word', True])\n",
    "\n",
    "basic_tuple = (1,)                      # single element tuple requires a comma\n",
    "# Functions (mentioned in the list section) such as 'count, index, length' can be applied to a tuple"
   ]
  },
  {
   "cell_type": "markdown",
   "metadata": {},
   "source": [
    "## Strings\n",
    "Iterable and mutable sequence of characters."
   ]
  },
  {
   "cell_type": "code",
   "execution_count": null,
   "metadata": {},
   "outputs": [],
   "source": [
    "# Create a string\n",
    "s = str(43)        # .. from a different data type\n",
    "s = 'Physics is beautiful!'\n",
    "\n",
    "# Functions (mentioned in the list section) such as 'count, index, length' can be applied to a string \n",
    "\n",
    "# String methods (Doesn't modify the original string)\n",
    "s.lower()                               # Replace every character with a lower case one\n",
    "s.upper()                               # Replace every character with a upper case one\n",
    "s.startswith('Ph')                      # True\n",
    "s.endswith('!')                            \n",
    "'123'.isdigit()\n",
    "s.find('b')                             # Return index of the first instance\n",
    "s.find('j')                             # -1\n",
    "s.replace('beautiful','wonderful')\n",
    "\n",
    "# Split a string into substrings\n",
    "s.split()                               \n",
    "s.split(' ')\n",
    "\n",
    "# Split and then join\n",
    "' '.join('Physics,is,beautiful!'.split(','))\n",
    "\n",
    "# Concatenation of two strings\n",
    "'Physics ' + 'is '+ 'beautiful!'\n",
    "\n",
    "# String substutution \n",
    "'Physics %s %s' %('is','beautiful!')             # Old Way      \n",
    "'Physics {} {}'.format('is','beautiful!')        # Modern way \n",
    "'Physics {a} {b}'.format(a='is',b='beautiful!')\n",
    "\n",
    "# String Formatting (Extremely useful!)\n",
    "'pi is {:.2f}'.format(3.1416)             # 'pi is 3.14' \n",
    "\n",
    "# Normal versus raw string\n",
    "print(r'first\\nsecond')                   # Notice \"r\"\n",
    "print('first\\nsecond')"
   ]
  },
  {
   "cell_type": "markdown",
   "metadata": {},
   "source": [
    "## Dictionaries\n",
    "Unorderd, iterable, mutable. Key-value pairs (keys can be numbers, strings, or tuples and values can be any Python object)"
   ]
  },
  {
   "cell_type": "code",
   "execution_count": null,
   "metadata": {},
   "outputs": [],
   "source": [
    "# Two ways of creating an empty dictionary\n",
    "dict1 = {}\n",
    "dict2 = dict()\n",
    "\n",
    "# Two ways of creating a dictionary\n",
    "subjects = {'major':'Physics', 'minor':['Mathematics','Biology'], 'degrees':2}\n",
    "subjects = dict(major = 'Physics', minor = ['Mathematics','Biology'], degrees = 2)\n",
    "\n",
    "# Conversion of list of tuples into dictionary\n",
    "subjects = dict([('major','Physics'),('minor',['Mathematics','Biology']),('degrees',2)])\n",
    "\n",
    "# Examination\n",
    "subjects['major']                         # 'Mathematics'\n",
    "subjects.get('major')                     # 'Mathematics'\n",
    "subjects.get('Start_date','not found')    # default 'not found'\n",
    "len(subjects)                             # 3\n",
    "subjects.keys()                           # List all the keys\n",
    "subjects.values()                         # List all the values\n",
    "subjects.items()                          # List of tuples\n",
    "'major' in subjects                       # True (Ckecks keys)\n",
    "\n",
    "# Modification\n",
    "subjects['additional'] = 'Philosophy'     # Add a pair\n",
    "subjects['additional'] = 'Biology'        # Modify value\n",
    "del subjects['additional']                # Delete a pair\n",
    "subjects.update({'Year':2018,'GPA':4.0})  # Add multiple entries\n",
    "\n",
    "# String substition\n",
    "'%(major)s is beautiful!' % subjects"
   ]
  },
  {
   "cell_type": "markdown",
   "metadata": {},
   "source": [
    "## Sets\n",
    "Unordered, iterable, mutable. Made up of unique data type. *(**Resemble mathematical sets!**)*"
   ]
  },
  {
   "cell_type": "code",
   "execution_count": null,
   "metadata": {},
   "outputs": [],
   "source": [
    "# Create an empty set\n",
    "set1 = set() \n",
    "\n",
    "# Two ways of creating a set\n",
    "majors = {'Physics', 'Biology', 'Chemistry'}\n",
    "subjects = set(['Physics', 'Mathematics', 'Economy'])\n",
    "\n",
    "# Functions (mentioned in the list section) such as 'count, index, length' can be applied to a string \n",
    "\n",
    "# Operations\n",
    "majors & subjects                         # Intersection\n",
    "majors | subjects                         # Union\n",
    "majors - subjects                         # Set difference\n",
    "\n",
    "# Modify a set\n",
    "majors.add('Zoology')\n",
    "majors.remove('Biology')\n",
    "majors.discard('Botany')                  # No error\n",
    "majors.clear()                            # Empty set\n",
    "\n",
    "# Sort a list\n",
    "sorted(set([0, 9, 1, 119, 56, 9]))        # Sorts entries (No repetition)"
   ]
  },
  {
   "cell_type": "code",
   "execution_count": null,
   "metadata": {},
   "outputs": [],
   "source": [
    "#####################################################################                \n",
    "#################### VERY IMPORTANT TO REMEMBER! ####################\n",
    "#####################################################################\n",
    "# [] list\n",
    "# {} dictionary, set\n",
    "# () tuple\n",
    "# '' string"
   ]
  },
  {
   "cell_type": "markdown",
   "metadata": {},
   "source": [
    "## Functions"
   ]
  },
  {
   "cell_type": "code",
   "execution_count": null,
   "metadata": {},
   "outputs": [],
   "source": [
    "def print_text():\n",
    "    \"\"\"This is where the effect of the function is usually explained.\"\"\"\n",
    "    return print('No arguments and no return values')\n",
    "\n",
    "print_text()"
   ]
  },
  {
   "cell_type": "code",
   "execution_count": null,
   "metadata": {},
   "outputs": [],
   "source": [
    "#Notice the order of default versus non-default arguments\n",
    "\n",
    "def power_num(power, x = 2):\n",
    "    \"\"\"By default calculates powers of 2's\"\"\"\n",
    "    return x ** power\n",
    "\n",
    "power_num(3)                             # Calculate 3rd power of 2\n",
    "power_num(3,4)                           # Calculate 3rd power of 4"
   ]
  },
  {
   "cell_type": "code",
   "execution_count": null,
   "metadata": {},
   "outputs": [],
   "source": [
    "def incomplete_function():\n",
    "    pass"
   ]
  },
  {
   "cell_type": "code",
   "execution_count": null,
   "metadata": {},
   "outputs": [],
   "source": [
    "def min_max(n):\n",
    "    return min(n), max(n)\n",
    "\n",
    "n = [0, 2, 78, 5, 2]\n",
    "\n",
    "min_max(n)                               # Return (0, 78)\n",
    "min_num, max_num = min_max(n)            # Unpacking\n",
    "max_num "
   ]
  },
  {
   "cell_type": "markdown",
   "metadata": {},
   "source": [
    "## Loops"
   ]
  },
  {
   "cell_type": "code",
   "execution_count": null,
   "metadata": {},
   "outputs": [],
   "source": [
    "# Ranges are important for looping\n",
    "for i in range(0,5,2):\n",
    "    print(i)"
   ]
  },
  {
   "cell_type": "code",
   "execution_count": null,
   "metadata": {},
   "outputs": [],
   "source": [
    "majors = ['Physics', 'Mathematics', 'Economy']\n",
    "\n",
    "# Not recommended\n",
    "for i in range(len(majors)):\n",
    "    print(majors[i].upper())\n",
    "\n",
    "print('-----------')    \n",
    "\n",
    "# Recommended    \n",
    "for i in majors:\n",
    "    print(i.upper())"
   ]
  },
  {
   "cell_type": "code",
   "execution_count": null,
   "metadata": {},
   "outputs": [],
   "source": [
    "# Dictionary loop\n",
    "subjects = dict([('major','Physics'),('minor',['Mathematics','Biology']),('degrees',2)])\n",
    "\n",
    "for i, j in subjects.items():\n",
    "    print(i,'->',j)"
   ]
  },
  {
   "cell_type": "code",
   "execution_count": null,
   "metadata": {},
   "outputs": [],
   "source": [
    "# Enumerate\n",
    "for i, j in enumerate(majors):\n",
    "    print(i, j)"
   ]
  },
  {
   "cell_type": "code",
   "execution_count": null,
   "metadata": {},
   "outputs": [],
   "source": [
    "# For/else loop\n",
    "for i in majors:\n",
    "    if i == 'Physics':\n",
    "        print('Wonderful!')\n",
    "        break\n",
    "else:\n",
    "    print('Missing!')"
   ]
  },
  {
   "cell_type": "code",
   "execution_count": null,
   "metadata": {},
   "outputs": [],
   "source": [
    "# While loop\n",
    "count = 0\n",
    "\n",
    "while count < 4:\n",
    "    print('Repetition!')\n",
    "    count += 1"
   ]
  },
  {
   "cell_type": "markdown",
   "metadata": {},
   "source": [
    "## List Comprehensions"
   ]
  },
  {
   "cell_type": "code",
   "execution_count": null,
   "metadata": {},
   "outputs": [],
   "source": [
    "n = [1, 2, 3, 4]\n",
    "c = []\n",
    "for i in n:\n",
    "    c.append(i**3)\n",
    "print(c)    \n",
    "\n",
    "######################\n",
    "# List Comprehension #\n",
    "######################\n",
    "d = [i**3 for i in n]\n",
    "print(d)"
   ]
  },
  {
   "cell_type": "code",
   "execution_count": null,
   "metadata": {},
   "outputs": [],
   "source": [
    "# Cubes of even numbers\n",
    "c2 = []\n",
    "for i in n:\n",
    "    if i%2 == 0:\n",
    "        c2.append(i**3)\n",
    "print(c2)\n",
    "\n",
    "######################\n",
    "# List Comprehension #\n",
    "######################\n",
    "d2 = [i**3 for i in n if i%2 == 0]        \n",
    "print(d2)"
   ]
  },
  {
   "cell_type": "code",
   "execution_count": null,
   "metadata": {},
   "outputs": [],
   "source": [
    "# List comprehension for mixed function\n",
    "cs = [i**2 if i%2 ==0 else i**3 for i in n]\n",
    "cs"
   ]
  },
  {
   "cell_type": "code",
   "execution_count": null,
   "metadata": {},
   "outputs": [],
   "source": [
    "# List comprehension for unpacking matrix\n",
    "matrix = [[1,3],[9,6]]\n",
    "\n",
    "items = [ele for row in matrix\n",
    "             for ele in row]\n",
    "items"
   ]
  },
  {
   "cell_type": "code",
   "execution_count": null,
   "metadata": {},
   "outputs": [],
   "source": [
    "# Set comprehensions\n",
    "sub = ['Physics', 'Mathematics', 'Law']\n",
    "char_lengths = {len(i) for i in sub}\n",
    "char_lengths"
   ]
  },
  {
   "cell_type": "code",
   "execution_count": null,
   "metadata": {},
   "outputs": [],
   "source": [
    "# Dictionary comprehensions\n",
    "sub_lengths = {len(i):i for i in sub}\n",
    "sub_lengths"
   ]
  },
  {
   "cell_type": "markdown",
   "metadata": {},
   "source": [
    "## Exception Handling"
   ]
  },
  {
   "cell_type": "code",
   "execution_count": null,
   "metadata": {},
   "outputs": [],
   "source": [
    "dict_new = dict(a = [1,2], b = [4,5])\n",
    "\n",
    "key = 'c'\n",
    "\n",
    "try:\n",
    "    dict_new[key]\n",
    "except:\n",
    "    print(\"Key {} is missing\".format(key))\n",
    "    dict_new['c'] = []      \n",
    "\n",
    "dict_new "
   ]
  },
  {
   "cell_type": "markdown",
   "metadata": {},
   "source": [
    "## Basic OS interfaces"
   ]
  },
  {
   "cell_type": "code",
   "execution_count": null,
   "metadata": {},
   "outputs": [],
   "source": [
    "# This is very powerful!\n",
    "import os\n",
    "import tempfile\n",
    "\n",
    "tmpdir = tempfile.gettempdir()\n",
    "print(os.getcwd())\n",
    "\n",
    "os.listdir(tmpdir)\n",
    "os.chdir(tmpdir)\n",
    "print('Working dir: ', os.getcwd())\n",
    "\n",
    "mytmpdir = os.path.join(tmpdir, 'STAT_ML_BOOK_OS')\n",
    "\n",
    "if not os.path.exists(mytmpdir):\n",
    "    os.mkdir(mytmpdir)\n",
    "\n",
    "filename = os.path.join(mytmpdir, 'Example.txt')\n",
    "\n",
    "print(filename)\n",
    "\n",
    "lines = [\"Lattice QCD \", \"is a non-perturbative way \" ,\"of understanding hadronic physics.\"]\n",
    "\n",
    "with open(filename, 'w') as f:\n",
    "    for i in lines:\n",
    "        f.write(i + '\\n')\n",
    "        \n",
    "f = open(filename, 'r')\n",
    "f.readlines()\n",
    "f.close()"
   ]
  },
  {
   "cell_type": "markdown",
   "metadata": {},
   "source": [
    "## OOP"
   ]
  },
  {
   "cell_type": "code",
   "execution_count": null,
   "metadata": {},
   "outputs": [],
   "source": [
    "# This is a huge topic! (A lot of resemblace with OO concepts in C++)."
   ]
  },
  {
   "cell_type": "code",
   "execution_count": null,
   "metadata": {},
   "outputs": [],
   "source": [
    "import math\n",
    "\n",
    "class Shape3D:\n",
    "    def volume(self):\n",
    "        raise NotImplementedError()\n",
    "        \n",
    "# __init__ constructor analogous to C++ constructor!     \n",
    "# 'this' pointer is replaced with 'self'\n",
    "\n",
    "class Cube(Shape3D):\n",
    "    def __init__(self,width):\n",
    "        self.width = width\n",
    "    \n",
    "    def volume(self):\n",
    "        return self.width ** 3\n",
    "\n",
    "class Cylinder(Shape3D):\n",
    "    def __init__(self,height,radius):\n",
    "        self.height = height\n",
    "        self.radius = radius\n",
    "    \n",
    "    def volume(self):\n",
    "        return math.pi*self.height*self.radius**2\n",
    "\n",
    "print(Cube(2).volume())\n",
    "print(Cylinder(4,3).volume())\n",
    "\n",
    "s = Shape3D()\n",
    "try:\n",
    "    s.volume()\n",
    "except NotImplementedError as e:\n",
    "    print(\"Not Implemented.\")"
   ]
  }
 ],
 "metadata": {
  "kernelspec": {
   "display_name": "Python 3",
   "language": "python",
   "name": "python3"
  },
  "language_info": {
   "codemirror_mode": {
    "name": "ipython",
    "version": 2
   },
   "file_extension": ".py",
   "mimetype": "text/x-python",
   "name": "python",
   "nbconvert_exporter": "python",
   "pygments_lexer": "ipython2",
   "version": "2.7.12"
  }
 },
 "nbformat": 4,
 "nbformat_minor": 2
}
