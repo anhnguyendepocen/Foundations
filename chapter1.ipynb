{
 "cells": [
  {
   "cell_type": "markdown",
   "metadata": {},
   "source": [
    "# Introduction to Machine Learning\n",
    "In the first chapter authors briefly talks about the general nature of the field of data science and machine learning. Overall, two aspects seem extremely important in this field. One, is the use of a branch of mathematics called 'statistics' which involves understanding the underlying structure of data, and extraction of meaningful information from it, using sophisticated mathematical techniques. The other is the use of fast computing machines. For example, variety of statical techniques such as 'bootstrapping' (which involves random sampling of data points and performing data analysis on it) have truly florished with the advent of modern day computers."
   ]
  },
  {
   "cell_type": "markdown",
   "metadata": {},
   "source": [
    "## Finding Key Connectors"
   ]
  },
  {
   "cell_type": "code",
   "execution_count": 22,
   "metadata": {},
   "outputs": [],
   "source": [
    "# Here, I've changed the names in the list\n",
    "users = [{\"id\": 0, \"name\": \"Amol\"},\n",
    "{\"id\": 1, \"name\": \"Chinmay\"},\n",
    "{\"id\": 2, \"name\": \"Abhi\"},\n",
    "{\"id\": 3, \"name\": \"Gaurav\"},\n",
    "{\"id\": 4, \"name\": \"Savya\"},\n",
    "{\"id\": 5, \"name\": \"Sachi\"},\n",
    "{\"id\": 6, \"name\": \"Dusha\"},\n",
    "{\"id\": 7, \"name\": \"Amruta\"},\n",
    "{\"id\": 8, \"name\": \"Aboli\"},\n",
    "{\"id\": 9, \"name\": \"Ashwini\"}]"
   ]
  },
  {
   "cell_type": "code",
   "execution_count": 19,
   "metadata": {},
   "outputs": [],
   "source": [
    "friendships = [(0, 1), (0, 2), (1, 2), (1,3), (2, 3), (3, 4), (4, 5), (5, 6), (5, 7), (6, 8), (7, 8), (8, 9)]"
   ]
  },
  {
   "cell_type": "code",
   "execution_count": 20,
   "metadata": {},
   "outputs": [],
   "source": [
    "for\tuser in\tusers:\n",
    "\tuser[\"friends\"] = [ ]\n",
    "\n",
    "for\ti, j in\tfriendships:\n",
    "\tusers[i][\"friends\"].append(users[j])\n",
    "\tusers[j][\"friends\"].append(users[i])"
   ]
  },
  {
   "cell_type": "markdown",
   "metadata": {},
   "source": [
    "## Data Scientists You May Know"
   ]
  },
  {
   "cell_type": "markdown",
   "metadata": {},
   "source": [
    "## Salaries and Experience"
   ]
  },
  {
   "cell_type": "markdown",
   "metadata": {},
   "source": [
    "## Paid Accounts"
   ]
  },
  {
   "cell_type": "markdown",
   "metadata": {},
   "source": [
    "## Topics of Interest"
   ]
  }
 ],
 "metadata": {
  "kernelspec": {
   "display_name": "Python 3",
   "language": "python",
   "name": "python3"
  },
  "language_info": {
   "codemirror_mode": {
    "name": "ipython",
    "version": 3
   },
   "file_extension": ".py",
   "mimetype": "text/x-python",
   "name": "python",
   "nbconvert_exporter": "python",
   "pygments_lexer": "ipython3",
   "version": "3.5.2"
  }
 },
 "nbformat": 4,
 "nbformat_minor": 2
}
