{
 "cells": [
  {
   "cell_type": "markdown",
   "metadata": {},
   "source": [
    "# Resampling Methods\n",
    "\n",
    "## Left out samples validation\n",
    "\n",
    "## Cross-validation (CV)"
   ]
  },
  {
   "cell_type": "markdown",
   "metadata": {},
   "source": [
    "### CV for linaer regression"
   ]
  },
  {
   "cell_type": "code",
   "execution_count": 51,
   "metadata": {},
   "outputs": [],
   "source": [
    "import numpy as np\n",
    "import pandas as pd\n",
    "import matplotlib.pyplot as plt\n",
    "import scipy.stats as stats\n",
    "from sklearn import datasets\n",
    "import sklearn.linear_model as lm\n",
    "import sklearn.metrics as metrics\n",
    "from sklearn.model_selection import KFold, StratifiedKFold"
   ]
  },
  {
   "cell_type": "code",
   "execution_count": 18,
   "metadata": {},
   "outputs": [
    {
     "name": "stdout",
     "output_type": "stream",
     "text": [
      "Train r2: 0.99\n",
      "Test  r2: 0.84\n"
     ]
    }
   ],
   "source": [
    "X, y = datasets.make_regression(n_samples=100, n_features=100, n_informative=10, random_state=42)\n",
    "\n",
    "model = lm.Ridge(alpha=10)\n",
    "\n",
    "cv = KFold(len(y), random_state=42)\n",
    "y_test_pred = np.zeros(len(y))\n",
    "y_train_pred = np.zeros(len(y))\n",
    "\n",
    "for train, test in cv.split(X):\n",
    "    X_train, X_test, y_train, y_test = X[train, :], X[test, :], y[train], y[test]\n",
    "    model.fit(X_train, y_train)\n",
    "    y_test_pred[test] = model.predict(X_test)\n",
    "    y_train_pred[train] = model.predict(X_train)\n",
    "\n",
    "print(\"Train r2: %.2f\" % metrics.r2_score(y, y_train_pred))\n",
    "print(\"Test  r2: %.2f\" % metrics.r2_score(y, y_test_pred))"
   ]
  },
  {
   "cell_type": "code",
   "execution_count": 19,
   "metadata": {},
   "outputs": [
    {
     "name": "stdout",
     "output_type": "stream",
     "text": [
      "Test r2:0.73\n"
     ]
    }
   ],
   "source": [
    "from sklearn.model_selection import cross_val_score\n",
    "\n",
    "scores = cross_val_score(estimator=model, X=X, y=y, cv=5)\n",
    "print(\"Test r2:%.2f\" % scores.mean())"
   ]
  },
  {
   "cell_type": "markdown",
   "metadata": {},
   "source": [
    "### CV for classification"
   ]
  },
  {
   "cell_type": "code",
   "execution_count": 20,
   "metadata": {},
   "outputs": [
    {
     "name": "stdout",
     "output_type": "stream",
     "text": [
      "Train SPC:1.00; SEN:1.00\n",
      "Test SPC:0.78; SEN:0.82\n",
      "Test ACC:0.80\n"
     ]
    }
   ],
   "source": [
    "X, y = datasets.make_classification(n_samples=100, n_features=100, \n",
    "                                    n_informative=10, random_state=42)\n",
    "\n",
    "model = lm.LogisticRegression(C=1, solver='lbfgs')\n",
    "\n",
    "cv = StratifiedKFold(n_splits=5)\n",
    "y_test_pred = np.zeros(len(y))\n",
    "y_train_pred = np.zeros(len(y))\n",
    "\n",
    "for train, test in cv.split(X, y):\n",
    "    X_train, X_test, y_train, y_test = X[train, :], X[test, :], y[train], y[test]\n",
    "    model.fit(X_train, y_train)\n",
    "    y_test_pred[test] = model.predict(X_test)\n",
    "    y_train_pred[train] = model.predict(X_train)\n",
    "\n",
    "recall_test = metrics.recall_score(y, y_test_pred, average=None)\n",
    "recall_train = metrics.recall_score(y, y_train_pred, average=None)\n",
    "acc_test = metrics.accuracy_score(y, y_test_pred)\n",
    "\n",
    "print(\"Train SPC:%.2f; SEN:%.2f\" % tuple(recall_train))\n",
    "print(\"Test SPC:%.2f; SEN:%.2f\" % tuple(recall_test))\n",
    "print(\"Test ACC:%.2f\" % acc_test)"
   ]
  },
  {
   "cell_type": "code",
   "execution_count": 21,
   "metadata": {},
   "outputs": [
    {
     "name": "stdout",
     "output_type": "stream",
     "text": [
      "Test ACC:0.80\n"
     ]
    }
   ],
   "source": [
    "from sklearn.model_selection import cross_val_score\n",
    "\n",
    "scores = cross_val_score(estimator=model, X=X, y=y, cv=5)\n",
    "scores.mean()\n",
    "\n",
    "# provide CV and score\n",
    "def balanced_acc(estimator, X, y):\n",
    "    '''Balanced acuracy scorer'''\n",
    "    return metrics.recall_score(y, estimator.predict(X), average=None).mean()\n",
    "\n",
    "scores = cross_val_score(estimator=model, X=X, y=y, cv=cv, scoring=balanced_acc)\n",
    "print(\"Test ACC:%.2f\" % scores.mean())"
   ]
  },
  {
   "cell_type": "markdown",
   "metadata": {},
   "source": [
    "## CV for model selection: Hyperparameters"
   ]
  },
  {
   "cell_type": "code",
   "execution_count": 22,
   "metadata": {},
   "outputs": [],
   "source": [
    "from sklearn.model_selection import GridSearchCV\n",
    "import sklearn.metrics as metrics"
   ]
  },
  {
   "cell_type": "code",
   "execution_count": 33,
   "metadata": {},
   "outputs": [
    {
     "name": "stdout",
     "output_type": "stream",
     "text": [
      "SNR: 2.6358469446381614\n",
      "Train r2:0.96\n",
      "{'l1_ratio': 0.9, 'alpha': 1.0}\n",
      "Train r2:0.97\n",
      "Test r2:0.74\n",
      "Selected alphas: [{'l1_ratio': 0.9, 'alpha': 1.0}, {'l1_ratio': 0.9, 'alpha': 0.1}, {'l1_ratio': 0.9, 'alpha': 0.001}, {'l1_ratio': 0.9, 'alpha': 0.001}, {'l1_ratio': 0.9, 'alpha': 1.0}, {'l1_ratio': 0.9, 'alpha': 1.0}, {'l1_ratio': 0.9, 'alpha': 1.0}, {'l1_ratio': 0.9, 'alpha': 1.0}, {'l1_ratio': 0.9, 'alpha': 0.1}, {'l1_ratio': 0.9, 'alpha': 1.0}]\n",
      "Test r2:0.63\n"
     ]
    }
   ],
   "source": [
    "# Dataset\n",
    "noise_sd = 10\n",
    "\n",
    "X, y, coef = datasets.make_regression(n_samples=50, n_features=100, noise=noise_sd, \n",
    "                                      n_informative=2, random_state=42, coef=True)\n",
    "\n",
    "# Use this to tune the noise parameter such that snr < 5\n",
    "print(\"SNR:\", np.std(np.dot(X, coef)) / noise_sd)\n",
    "\n",
    "# param grid over alpha & l1_ratio\n",
    "param_grid = {'alpha': 10. ** np.arange(-3, 3), 'l1_ratio':[.1, .5, .9]}\n",
    "\n",
    "# Warp\n",
    "model = GridSearchCV(lm.ElasticNet(max_iter=10000), param_grid, cv=5, iid=False)\n",
    "\n",
    "# 1) Biased usage: fit on all data, ommit outer CV loop\n",
    "model.fit(X, y)\n",
    "print(\"Train r2:%.2f\" % metrics.r2_score(y, model.predict(X)))\n",
    "print(model.best_params_)\n",
    "\n",
    "# 2) User made outer CV, useful to extract specific information\n",
    "cv = KFold(len(y)//5, random_state=42)\n",
    "y_test_pred = np.zeros(len(y))\n",
    "y_train_pred = np.zeros(len(y))\n",
    "alphas = list()\n",
    "\n",
    "for train, test in cv.split(X):\n",
    "    X_train, X_test, y_train, y_test = X[train, :], X[test, :], y[train], y[test]\n",
    "    model.fit(X_train, y_train)\n",
    "    y_test_pred[test] = model.predict(X_test)\n",
    "    y_train_pred[train] = model.predict(X_train)\n",
    "    alphas.append(model.best_params_)\n",
    "\n",
    "print(\"Train r2:%.2f\" % metrics.r2_score(y, y_train_pred))\n",
    "print(\"Test r2:%.2f\" % metrics.r2_score(y, y_test_pred))\n",
    "print(\"Selected alphas:\", alphas)\n",
    "\n",
    "# 3.) user-friendly sklearn for outer CV\n",
    "scores = cross_val_score(estimator=model, X=X, y=y, cv=cv)\n",
    "print(\"Test r2:%.2f\" % scores.mean())"
   ]
  },
  {
   "cell_type": "code",
   "execution_count": 37,
   "metadata": {},
   "outputs": [
    {
     "name": "stdout",
     "output_type": "stream",
     "text": [
      "== Ridge (L2 penalty) ==\n",
      "Test r2:0.20\n",
      "== Lasso (L1 penalty) ==\n",
      "Test r2:0.71\n",
      "== ElasticNet (L1 penalty) ==\n",
      "Test r2:0.66\n"
     ]
    }
   ],
   "source": [
    "X, y, coef = datasets.make_regression(n_samples=50, n_features=100, noise=10, n_informative=2, random_state=42, coef=True)\n",
    "\n",
    "\n",
    "print(\"== Ridge (L2 penalty) ==\")\n",
    "model = lm.RidgeCV(cv=5)\n",
    "# Let sklearn select a list of alphas with default LOO-CV\n",
    "scores = cross_val_score(estimator=model, X=X, y=y, cv=5)\n",
    "print(\"Test r2:%.2f\" % scores.mean())\n",
    "\n",
    "\n",
    "print(\"== Lasso (L1 penalty) ==\")\n",
    "model = lm.LassoCV(n_jobs=-1, cv=5)\n",
    "# Let sklearn select a list of alphas with default 3CV\n",
    "scores = cross_val_score(estimator=model, X=X, y=y, cv=5)\n",
    "print(\"Test r2:%.2f\" % scores.mean())\n",
    "\n",
    "\n",
    "print(\"== ElasticNet (L1 penalty) ==\")\n",
    "model = lm.ElasticNetCV(l1_ratio=[.1, .5, .9], n_jobs=-1, cv=5)\n",
    "# Let sklearn select a list of alphas with default 3CV\n",
    "scores = cross_val_score(estimator=model, X=X, y=y, cv=5)\n",
    "print(\"Test r2:%.2f\" % scores.mean())"
   ]
  },
  {
   "cell_type": "code",
   "execution_count": 44,
   "metadata": {},
   "outputs": [
    {
     "name": "stdout",
     "output_type": "stream",
     "text": [
      "== Logistic Ridge (L2 penalty) ==\n",
      "Test ACC:0.78\n"
     ]
    }
   ],
   "source": [
    "X, y = datasets.make_classification(n_samples=100, n_features=100, \n",
    "                                    n_informative=10, random_state=42)\n",
    "\n",
    "# provide CV and score\n",
    "def balanced_acc(estimator, X, y):\n",
    "    '''Balanced accuracy scorer'''\n",
    "    return metrics.recall_score(y, estimator.predict(X), average=None).mean()\n",
    "\n",
    "print(\"== Logistic Ridge (L2 penalty) ==\")\n",
    "model = lm.LogisticRegressionCV(class_weight='balanced',n_jobs=-1, cv=5)\n",
    "# Let sklearn select a list of alphas with default LOO-CV\n",
    "scores = cross_val_score(estimator=model, X=X, y=y, cv=5)\n",
    "print(\"Test ACC:%.2f\" % scores.mean())"
   ]
  },
  {
   "cell_type": "markdown",
   "metadata": {},
   "source": [
    "## Random Permutations"
   ]
  },
  {
   "cell_type": "code",
   "execution_count": 49,
   "metadata": {},
   "outputs": [
    {
     "name": "stdout",
     "output_type": "stream",
     "text": [
      "Permutation two tailed p-value=0.06959. Pearson test p-value=0.07355\n"
     ]
    },
    {
     "data": {
      "image/png": "[encoded data removed]",
      "text/plain": [
       "<Figure size 432x288 with 1 Axes>"
      ]
     },
     "metadata": {},
     "output_type": "display_data"
    }
   ],
   "source": [
    "np.random.seed(42)\n",
    "x = np.random.normal(loc=10, scale=1, size=100)\n",
    "y = x + np.random.normal(loc=-3, scale=3, size=100) # snr = 1/2\n",
    "\n",
    "# Permutation: simulate the null hypothesis\n",
    "nperm = 10000\n",
    "perms = np.zeros(nperm + 1)\n",
    "\n",
    "perms[0] = np.corrcoef(x, y)[0, 1]\n",
    "for i in range(1, nperm):\n",
    "    perms[i] = np.corrcoef(np.random.permutation(x), y)[0, 1]\n",
    "\n",
    "# Plot\n",
    "# Re-weight to obtain distribution\n",
    "weights = np.ones(perms.shape[0]) / perms.shape[0]\n",
    "plt.hist([perms[perms >= perms[0]], perms], histtype='stepfilled', bins=100, \n",
    "         label=[\"t>t obs (p-value)\", \"t<t obs\"], weights=[weights[perms >= perms[0]], weights])\n",
    "plt.xlabel(\"Statistic distribution under null hypothesis\")\n",
    "plt.axvline(x=perms[0], color='blue', linewidth=1, label=\"observed statistic\")\n",
    "\n",
    "_ = plt.legend(loc=\"upper left\")\n",
    "\n",
    "# One-tailed empirical p-value\n",
    "pval_perm = np.sum(perms >= perms[0]) / perms.shape[0]\n",
    "\n",
    "# Compare with Pearson's correlation test\n",
    "_, pval_test = stats.pearsonr(x, y)\n",
    "print(\"Permutation two tailed p-value=%.5f. Pearson test p-value=%.5f\" % (2*pval_perm, pval_test))"
   ]
  },
  {
   "cell_type": "markdown",
   "metadata": {},
   "source": [
    "## Bootstrapping"
   ]
  },
  {
   "cell_type": "code",
   "execution_count": null,
   "metadata": {},
   "outputs": [],
   "source": [
    "# Regression dataset\n",
    "n_features = 5\n",
    "n_features_info = 2\n",
    "n_samples = 100\n",
    "X = np.random.randn(n_samples, n_features)\n",
    "beta = np.zeros(n_features)\n",
    "beta[:n_features_info] = 1\n",
    "Xbeta = np.dot(X, beta)\n",
    "eps = np.random.randn(n_samples)\n",
    "y = Xbeta + eps\n",
    "\n",
    "# Fit model on all data (!! risk of overfit)\n",
    "model = lm.RidgeCV()\n",
    "model.fit(X, y)\n",
    "print(\"Coefficients on all data:\")\n",
    "print(model.coef_)\n",
    "\n",
    "# Bootstrap loop\n",
    "nboot = 100 # !! Should be at least 1000\n",
    "scores_names = [\"r2\"]\n",
    "scores_boot = np.zeros((nboot, len(scores_names)))\n",
    "coefs_boot = np.zeros((nboot, X.shape[1]))\n",
    "\n",
    "orig_all = np.arange(X.shape[0])\n",
    "for boot_i in range(nboot):\n",
    "    boot_tr = np.random.choice(orig_all, size=len(orig_all), replace=True)\n",
    "    boot_te = np.setdiff1d(orig_all, boot_tr, assume_unique=False)\n",
    "    Xtr, ytr = X[boot_tr, :], y[boot_tr]\n",
    "    Xte, yte = X[boot_te, :], y[boot_te]\n",
    "    model.fit(Xtr, ytr)\n",
    "    y_pred = model.predict(Xte).ravel()\n",
    "    scores_boot[boot_i, :] = metrics.r2_score(yte, y_pred)\n",
    "    coefs_boot[boot_i, :] = model.coef_\n",
    "\n",
    "# Compute Mean, SE, CI\n",
    "scores_boot = pd.DataFrame(scores_boot, columns=scores_names)\n",
    "scores_stat = scores_boot.describe(percentiles=[.99, .95, .5, .1, .05, 0.01])\n",
    "\n",
    "print(\"r-squared: Mean=%.2f, SE=%.2f, CI=(%.2f %.2f)\" %\\\n",
    "tuple(scores_stat.loc[[\"mean\", \"std\", \"5%\", \"95%\"], \"r2\"]))\n",
    "\n",
    "coefs_boot = pd.DataFrame(coefs_boot)\n",
    "coefs_stat = coefs_boot.describe(percentiles=[.99, .95, .5, .1, .05, 0.01])\n",
    "print(\"Coefficients distribution\")\n",
    "print(coefs_stat)"
   ]
  }
 ],
 "metadata": {
  "kernelspec": {
   "display_name": "Python 3",
   "language": "python",
   "name": "python3"
  },
  "language_info": {
   "codemirror_mode": {
    "name": "ipython",
    "version": 3
   },
   "file_extension": ".py",
   "mimetype": "text/x-python",
   "name": "python",
   "nbconvert_exporter": "python",
   "pygments_lexer": "ipython3",
   "version": "3.5.2"
  }
 },
 "nbformat": 4,
 "nbformat_minor": 2
}
