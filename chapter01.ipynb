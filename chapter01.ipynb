{
 "cells": [
  {
   "cell_type": "markdown",
   "metadata": {},
   "source": [
    "# Introduction to Machine Learning\n",
    "In the first chapter authors briefly talk about the general nature of the field of data science and machine learning. Overall, two aspects seem extremely important in this field. One, is the use of a branch of mathematics called 'statistics' which involves understanding the underlying structure of data, and extraction of meaningful information from it, using sophisticated mathematical techniques. The other is the use of fast computing machines. For example, variety of statistical techniques such as 'bootstrapping' (which involves random sampling of data points and performing data analysis on it) have truly flourished with the advent of modern day computers."
   ]
  },
  {
   "cell_type": "markdown",
   "metadata": {},
   "source": [
    "## Machine learning within data science\n",
    "Expertise in 'Data science' seems to require following three technical skills\n",
    "1. Hacking skills\n",
    "2. Math and statistics knowledge\n",
    "3. Substantive expertise\n",
    " \n",
    "Usually the learning algorithms are classified into following two main types:\n",
    "1. Supervised learning (for e.g. Classification, Regression)\n",
    "2. Unsupervised learning (Principal Component Analysis, Clustering)"
   ]
  },
  {
   "cell_type": "markdown",
   "metadata": {},
   "source": [
    "## IT/Computing science tools\n",
    "\n",
    "Python has achieved the reputation of being the most important scripting language for an easy implementation of variety of machine learning and deep learning algorithms. Addition of machine learning in-built frameworks and libraries, such as Theano, Scikit-learn, TensorFlow, PyTorch, Caffe has made it convenient to apply different algorithms to new data sets."
   ]
  },
  {
   "cell_type": "markdown",
   "metadata": {},
   "source": [
    "## Statistics and applied mathematics\n",
    "\n",
    "Substantial number of sophisticated concepts from probability, statistics and linear algebra have found their ways in the field of data science, and perhaps the current revolution in this field will regenerate interest in the study of fundamental concepts in statistics."
   ]
  },
  {
   "cell_type": "markdown",
   "metadata": {},
   "source": [
    "## Data analysis methodology\n",
    "I recollect the formal steps mentioned in the book, for implementation of machine learning algorithm for a new problem in data science.\n",
    "1. Formalize customer's needs into a machine learning problem\n",
    "2. Ask exploratory questions about data\n",
    "3. Define the sample to work on\n",
    "4. Prepare a document laying out the objective, required dataset, conditions for the acquisition of datasets, etc.\n",
    "5. Read the learning dataset\n",
    "6. Perform data wrangling, sanity checks, descriptive statistics \n",
    "7. Create pilot visualizations, perform univariate statistics for association of between dependent and independent variables\n",
    "8. Perform complex multivariate machine learning\n",
    "9. Perform cross-validation\n",
    "10. Apply on new data"
   ]
  }
 ],
 "metadata": {
  "kernelspec": {
   "display_name": "Python 3",
   "language": "python",
   "name": "python3"
  },
  "language_info": {
   "codemirror_mode": {
    "name": "ipython",
    "version": 2
   },
   "file_extension": ".py",
   "mimetype": "text/x-python",
   "name": "python",
   "nbconvert_exporter": "python",
   "pygments_lexer": "ipython2",
   "version": "2.7.12"
  }
 },
 "nbformat": 4,
 "nbformat_minor": 2
}
