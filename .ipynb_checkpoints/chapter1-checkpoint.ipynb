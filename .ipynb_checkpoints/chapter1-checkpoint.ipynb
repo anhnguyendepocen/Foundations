{
 "cells": [
  {
   "cell_type": "markdown",
   "metadata": {},
   "source": [
    "# Introduction to Machine Learning\n",
    "In the first chapter authors briefly talks about the general nature of the field of data science and machine learning. Overall, two aspects seem extremely important in this field. One, is the use of a branch of mathematics called 'statistics' which involves understanding the underlying structure of data, and extraction of meaningful information from it, using sophisticated mathematical techniques. The other is the use of fast computing machines. For example, variety of statical techniques such as 'bootstrapping' (which involves random sampling of data points and performing data analysis on it) have truly florished with the advent of modern day computers."
   ]
  }
 ],
 "metadata": {
  "kernelspec": {
   "display_name": "Python 3",
   "language": "python",
   "name": "python3"
  },
  "language_info": {
   "codemirror_mode": {
    "name": "ipython",
    "version": 3
   },
   "file_extension": ".py",
   "mimetype": "text/x-python",
   "name": "python",
   "nbconvert_exporter": "python",
   "pygments_lexer": "ipython3",
   "version": "3.5.2"
  }
 },
 "nbformat": 4,
 "nbformat_minor": 2
}
